{
 "cells": [
  {
   "cell_type": "markdown",
   "id": "f52a2bf3",
   "metadata": {},
   "source": [
    "# TELUS ASSESSMENT: Predicting Avg Dwell time in Telco"
   ]
  },
  {
   "cell_type": "markdown",
   "id": "0440ba51",
   "metadata": {},
   "source": [
    "# Problem statement (Task 1)"
   ]
  },
  {
   "cell_type": "markdown",
   "id": "b319ae06",
   "metadata": {},
   "source": [
    "## Part 1: Getting and Cleaning the data"
   ]
  },
  {
   "cell_type": "code",
   "execution_count": 1,
   "id": "403e64da",
   "metadata": {},
   "outputs": [],
   "source": [
    "import pandas as pd              # package for data wrangling and transformation\n",
    "import numpy as np               # package for linear algebra\n",
    "import seaborn as sns            # advanced graphical interface package \n",
    "import matplotlib.pyplot as plt  # basic graphical interface package\n",
    "import copy"
   ]
  },
  {
   "cell_type": "code",
   "execution_count": 2,
   "id": "7b672b6f",
   "metadata": {},
   "outputs": [],
   "source": [
    "import warnings\n",
    "warnings.filterwarnings('ignore')\n",
    "pd.set_option('display.max_columns', None)"
   ]
  },
  {
   "cell_type": "markdown",
   "id": "f0dd7d40",
   "metadata": {},
   "source": [
    "### 1. Getting the data"
   ]
  },
  {
   "cell_type": "code",
   "execution_count": 3,
   "id": "389b2be8",
   "metadata": {},
   "outputs": [],
   "source": [
    "# geo location data \n",
    "geo = pd.read_csv('/root/anaconda3/analytics/Projects/telco_dwell_time/geolocation_data.csv')\n",
    "\n",
    "# Poseidon CTC Mall Geofence data\n",
    "poseidon = pd.read_csv('/root/anaconda3/analytics/Projects/telco_dwell_time/Poseidon CTC Mall Geofence Cell List.csv')\n",
    "\n",
    "# cgi data\n",
    "\n",
    "cgi = pd.read_csv('/root/anaconda3/analytics/Projects/telco_dwell_time/cgi.csv')"
   ]
  },
  {
   "cell_type": "markdown",
   "id": "7148db3c",
   "metadata": {},
   "source": [
    "#### Checking shape and data structure"
   ]
  },
  {
   "cell_type": "markdown",
   "id": "fe26e33d",
   "metadata": {},
   "source": [
    "**1. geolocation data**"
   ]
  },
  {
   "cell_type": "code",
   "execution_count": 4,
   "id": "9e93cd4a",
   "metadata": {},
   "outputs": [
    {
     "name": "stdout",
     "output_type": "stream",
     "text": [
      "Index(['imsi_id', 'event_ts', 'cgi_id'], dtype='object')\n"
     ]
    }
   ],
   "source": [
    "print(geo.columns)"
   ]
  },
  {
   "cell_type": "code",
   "execution_count": 5,
   "id": "8dad754f",
   "metadata": {},
   "outputs": [
    {
     "name": "stdout",
     "output_type": "stream",
     "text": [
      "(408917, 3)\n"
     ]
    }
   ],
   "source": [
    "print(geo.shape)"
   ]
  },
  {
   "cell_type": "code",
   "execution_count": 6,
   "id": "5b9320ff",
   "metadata": {},
   "outputs": [
    {
     "data": {
      "text/html": [
       "<div>\n",
       "<style scoped>\n",
       "    .dataframe tbody tr th:only-of-type {\n",
       "        vertical-align: middle;\n",
       "    }\n",
       "\n",
       "    .dataframe tbody tr th {\n",
       "        vertical-align: top;\n",
       "    }\n",
       "\n",
       "    .dataframe thead th {\n",
       "        text-align: right;\n",
       "    }\n",
       "</style>\n",
       "<table border=\"1\" class=\"dataframe\">\n",
       "  <thead>\n",
       "    <tr style=\"text-align: right;\">\n",
       "      <th></th>\n",
       "      <th>imsi_id</th>\n",
       "      <th>event_ts</th>\n",
       "      <th>cgi_id</th>\n",
       "    </tr>\n",
       "  </thead>\n",
       "  <tbody>\n",
       "    <tr>\n",
       "      <th>0</th>\n",
       "      <td>778fb33d64b6dcbc67c79ca6d35f7820f993f26c74502c...</td>\n",
       "      <td>01/09/2020 1:09</td>\n",
       "      <td>4G:302-220-113919-131</td>\n",
       "    </tr>\n",
       "    <tr>\n",
       "      <th>1</th>\n",
       "      <td>753c0c75ac582307c3b0d04bbe4cfe7d118684d1b4060e...</td>\n",
       "      <td>01/09/2020 1:09</td>\n",
       "      <td>4G:302-220-113155-41</td>\n",
       "    </tr>\n",
       "    <tr>\n",
       "      <th>2</th>\n",
       "      <td>05f8982252e683f1fed1f3ebd42f60848587a4e270ddcc...</td>\n",
       "      <td>01/09/2020 1:09</td>\n",
       "      <td>4G:302-220-113937-10</td>\n",
       "    </tr>\n",
       "    <tr>\n",
       "      <th>3</th>\n",
       "      <td>d5ce6f7f332850a23ae4700231c87dec634a1e7832304d...</td>\n",
       "      <td>01/09/2020 1:09</td>\n",
       "      <td>302-220-11201-23458</td>\n",
       "    </tr>\n",
       "    <tr>\n",
       "      <th>4</th>\n",
       "      <td>05f8982252e683f1fed1f3ebd42f60848587a4e270ddcc...</td>\n",
       "      <td>01/09/2020 1:09</td>\n",
       "      <td>4G:302-220-113937-10</td>\n",
       "    </tr>\n",
       "  </tbody>\n",
       "</table>\n",
       "</div>"
      ],
      "text/plain": [
       "                                             imsi_id         event_ts  \\\n",
       "0  778fb33d64b6dcbc67c79ca6d35f7820f993f26c74502c...  01/09/2020 1:09   \n",
       "1  753c0c75ac582307c3b0d04bbe4cfe7d118684d1b4060e...  01/09/2020 1:09   \n",
       "2  05f8982252e683f1fed1f3ebd42f60848587a4e270ddcc...  01/09/2020 1:09   \n",
       "3  d5ce6f7f332850a23ae4700231c87dec634a1e7832304d...  01/09/2020 1:09   \n",
       "4  05f8982252e683f1fed1f3ebd42f60848587a4e270ddcc...  01/09/2020 1:09   \n",
       "\n",
       "                  cgi_id  \n",
       "0  4G:302-220-113919-131  \n",
       "1   4G:302-220-113155-41  \n",
       "2   4G:302-220-113937-10  \n",
       "3    302-220-11201-23458  \n",
       "4   4G:302-220-113937-10  "
      ]
     },
     "execution_count": 6,
     "metadata": {},
     "output_type": "execute_result"
    }
   ],
   "source": [
    "geo.head()"
   ]
  },
  {
   "cell_type": "code",
   "execution_count": 7,
   "id": "af380666",
   "metadata": {},
   "outputs": [
    {
     "data": {
      "text/plain": [
       "imsi_id     object\n",
       "event_ts    object\n",
       "cgi_id      object\n",
       "dtype: object"
      ]
     },
     "execution_count": 7,
     "metadata": {},
     "output_type": "execute_result"
    }
   ],
   "source": [
    "geo.dtypes"
   ]
  },
  {
   "cell_type": "code",
   "execution_count": 8,
   "id": "4552fbce",
   "metadata": {},
   "outputs": [
    {
     "data": {
      "text/plain": [
       "14670"
      ]
     },
     "execution_count": 8,
     "metadata": {},
     "output_type": "execute_result"
    }
   ],
   "source": [
    "geo.cgi_id.nunique()"
   ]
  },
  {
   "cell_type": "code",
   "execution_count": 9,
   "id": "ce7d564b",
   "metadata": {},
   "outputs": [
    {
     "data": {
      "text/plain": [
       "1752"
      ]
     },
     "execution_count": 9,
     "metadata": {},
     "output_type": "execute_result"
    }
   ],
   "source": [
    "geo.imsi_id.nunique()"
   ]
  },
  {
   "cell_type": "markdown",
   "id": "6917bd95",
   "metadata": {},
   "source": [
    "**2. Poisedon CTC Mall**"
   ]
  },
  {
   "cell_type": "code",
   "execution_count": 10,
   "id": "d415f477",
   "metadata": {},
   "outputs": [
    {
     "data": {
      "text/plain": [
       "Index(['Poseidon CTC Mall Geofence Cell List'], dtype='object')"
      ]
     },
     "execution_count": 10,
     "metadata": {},
     "output_type": "execute_result"
    }
   ],
   "source": [
    "poseidon.columns"
   ]
  },
  {
   "cell_type": "code",
   "execution_count": 11,
   "id": "8e9d2f3b",
   "metadata": {},
   "outputs": [
    {
     "data": {
      "text/plain": [
       "(105, 1)"
      ]
     },
     "execution_count": 11,
     "metadata": {},
     "output_type": "execute_result"
    }
   ],
   "source": [
    "poseidon.shape"
   ]
  },
  {
   "cell_type": "code",
   "execution_count": 12,
   "id": "7df40842",
   "metadata": {},
   "outputs": [
    {
     "data": {
      "text/html": [
       "<div>\n",
       "<style scoped>\n",
       "    .dataframe tbody tr th:only-of-type {\n",
       "        vertical-align: middle;\n",
       "    }\n",
       "\n",
       "    .dataframe tbody tr th {\n",
       "        vertical-align: top;\n",
       "    }\n",
       "\n",
       "    .dataframe thead th {\n",
       "        text-align: right;\n",
       "    }\n",
       "</style>\n",
       "<table border=\"1\" class=\"dataframe\">\n",
       "  <thead>\n",
       "    <tr style=\"text-align: right;\">\n",
       "      <th></th>\n",
       "      <th>Poseidon CTC Mall Geofence Cell List</th>\n",
       "    </tr>\n",
       "  </thead>\n",
       "  <tbody>\n",
       "    <tr>\n",
       "      <th>0</th>\n",
       "      <td>4G:302-220-113122-132</td>\n",
       "    </tr>\n",
       "    <tr>\n",
       "      <th>1</th>\n",
       "      <td>4G:302-220-113122-42</td>\n",
       "    </tr>\n",
       "    <tr>\n",
       "      <th>2</th>\n",
       "      <td>4G:302-220-113122-112</td>\n",
       "    </tr>\n",
       "    <tr>\n",
       "      <th>3</th>\n",
       "      <td>4G:302-220-113122-2</td>\n",
       "    </tr>\n",
       "    <tr>\n",
       "      <th>4</th>\n",
       "      <td>4G:302-220-113122-131</td>\n",
       "    </tr>\n",
       "  </tbody>\n",
       "</table>\n",
       "</div>"
      ],
      "text/plain": [
       "  Poseidon CTC Mall Geofence Cell List\n",
       "0                4G:302-220-113122-132\n",
       "1                 4G:302-220-113122-42\n",
       "2                4G:302-220-113122-112\n",
       "3                  4G:302-220-113122-2\n",
       "4                4G:302-220-113122-131"
      ]
     },
     "execution_count": 12,
     "metadata": {},
     "output_type": "execute_result"
    }
   ],
   "source": [
    "poseidon.head()"
   ]
  },
  {
   "cell_type": "code",
   "execution_count": 13,
   "id": "dd158f0c",
   "metadata": {},
   "outputs": [
    {
     "data": {
      "text/plain": [
       "Poseidon CTC Mall Geofence Cell List    object\n",
       "dtype: object"
      ]
     },
     "execution_count": 13,
     "metadata": {},
     "output_type": "execute_result"
    }
   ],
   "source": [
    "poseidon.dtypes"
   ]
  },
  {
   "cell_type": "code",
   "execution_count": 14,
   "id": "dcff8f58",
   "metadata": {},
   "outputs": [
    {
     "data": {
      "text/plain": [
       "75"
      ]
     },
     "execution_count": 14,
     "metadata": {},
     "output_type": "execute_result"
    }
   ],
   "source": [
    "poseidon['Poseidon CTC Mall Geofence Cell List'].nunique()"
   ]
  },
  {
   "cell_type": "markdown",
   "id": "504f21ef",
   "metadata": {},
   "source": [
    "We have 75 unique cells (that fence the **POI of \"Poseidon CTC Mall\"**) to which we are interested in. So we drop the duplicate values and have it ready to be merged:"
   ]
  },
  {
   "cell_type": "code",
   "execution_count": 15,
   "id": "73339eed",
   "metadata": {},
   "outputs": [],
   "source": [
    "poseidon.drop_duplicates(subset=['Poseidon CTC Mall Geofence Cell List'], inplace = True)"
   ]
  },
  {
   "cell_type": "code",
   "execution_count": 16,
   "id": "c093ebf8",
   "metadata": {},
   "outputs": [
    {
     "data": {
      "text/html": [
       "<div>\n",
       "<style scoped>\n",
       "    .dataframe tbody tr th:only-of-type {\n",
       "        vertical-align: middle;\n",
       "    }\n",
       "\n",
       "    .dataframe tbody tr th {\n",
       "        vertical-align: top;\n",
       "    }\n",
       "\n",
       "    .dataframe thead th {\n",
       "        text-align: right;\n",
       "    }\n",
       "</style>\n",
       "<table border=\"1\" class=\"dataframe\">\n",
       "  <thead>\n",
       "    <tr style=\"text-align: right;\">\n",
       "      <th></th>\n",
       "      <th>Poseidon CTC Mall Geofence Cell List</th>\n",
       "    </tr>\n",
       "  </thead>\n",
       "  <tbody>\n",
       "    <tr>\n",
       "      <th>0</th>\n",
       "      <td>4G:302-220-113122-132</td>\n",
       "    </tr>\n",
       "    <tr>\n",
       "      <th>1</th>\n",
       "      <td>4G:302-220-113122-42</td>\n",
       "    </tr>\n",
       "    <tr>\n",
       "      <th>2</th>\n",
       "      <td>4G:302-220-113122-112</td>\n",
       "    </tr>\n",
       "    <tr>\n",
       "      <th>3</th>\n",
       "      <td>4G:302-220-113122-2</td>\n",
       "    </tr>\n",
       "    <tr>\n",
       "      <th>4</th>\n",
       "      <td>4G:302-220-113122-131</td>\n",
       "    </tr>\n",
       "  </tbody>\n",
       "</table>\n",
       "</div>"
      ],
      "text/plain": [
       "  Poseidon CTC Mall Geofence Cell List\n",
       "0                4G:302-220-113122-132\n",
       "1                 4G:302-220-113122-42\n",
       "2                4G:302-220-113122-112\n",
       "3                  4G:302-220-113122-2\n",
       "4                4G:302-220-113122-131"
      ]
     },
     "execution_count": 16,
     "metadata": {},
     "output_type": "execute_result"
    }
   ],
   "source": [
    "poseidon.head()"
   ]
  },
  {
   "cell_type": "code",
   "execution_count": 17,
   "id": "6567c020",
   "metadata": {},
   "outputs": [
    {
     "data": {
      "text/plain": [
       "(75, 1)"
      ]
     },
     "execution_count": 17,
     "metadata": {},
     "output_type": "execute_result"
    }
   ],
   "source": [
    "poseidon.shape # indeed we have 75 cells"
   ]
  },
  {
   "cell_type": "markdown",
   "id": "68909c98",
   "metadata": {},
   "source": [
    "**3.CGI (Cell Global Identity) External Data**"
   ]
  },
  {
   "cell_type": "code",
   "execution_count": 18,
   "id": "8c0934a3",
   "metadata": {},
   "outputs": [
    {
     "data": {
      "text/plain": [
       "Index(['MCC', 'MNC', 'ISO', 'Country', 'Brand', 'Operator'], dtype='object')"
      ]
     },
     "execution_count": 18,
     "metadata": {},
     "output_type": "execute_result"
    }
   ],
   "source": [
    "cgi.columns"
   ]
  },
  {
   "cell_type": "code",
   "execution_count": 19,
   "id": "9602c52c",
   "metadata": {},
   "outputs": [
    {
     "data": {
      "text/plain": [
       "(3, 6)"
      ]
     },
     "execution_count": 19,
     "metadata": {},
     "output_type": "execute_result"
    }
   ],
   "source": [
    "cgi.shape"
   ]
  },
  {
   "cell_type": "code",
   "execution_count": 20,
   "id": "92be6211",
   "metadata": {},
   "outputs": [
    {
     "data": {
      "text/html": [
       "<div>\n",
       "<style scoped>\n",
       "    .dataframe tbody tr th:only-of-type {\n",
       "        vertical-align: middle;\n",
       "    }\n",
       "\n",
       "    .dataframe tbody tr th {\n",
       "        vertical-align: top;\n",
       "    }\n",
       "\n",
       "    .dataframe thead th {\n",
       "        text-align: right;\n",
       "    }\n",
       "</style>\n",
       "<table border=\"1\" class=\"dataframe\">\n",
       "  <thead>\n",
       "    <tr style=\"text-align: right;\">\n",
       "      <th></th>\n",
       "      <th>MCC</th>\n",
       "      <th>MNC</th>\n",
       "      <th>ISO</th>\n",
       "      <th>Country</th>\n",
       "      <th>Brand</th>\n",
       "      <th>Operator</th>\n",
       "    </tr>\n",
       "  </thead>\n",
       "  <tbody>\n",
       "    <tr>\n",
       "      <th>0</th>\n",
       "      <td>302</td>\n",
       "      <td>220</td>\n",
       "      <td>CA</td>\n",
       "      <td>Canada</td>\n",
       "      <td>Telus Mobility, Koodo Mobile, Public Mobile</td>\n",
       "      <td>Telus Mobility</td>\n",
       "    </tr>\n",
       "    <tr>\n",
       "      <th>1</th>\n",
       "      <td>302</td>\n",
       "      <td>610</td>\n",
       "      <td>CA</td>\n",
       "      <td>Canada</td>\n",
       "      <td>Bell Mobility</td>\n",
       "      <td>Bell Mobility</td>\n",
       "    </tr>\n",
       "    <tr>\n",
       "      <th>2</th>\n",
       "      <td>302</td>\n",
       "      <td>880</td>\n",
       "      <td>CA</td>\n",
       "      <td>Canada</td>\n",
       "      <td>Bell / Telus / SaskTel</td>\n",
       "      <td>Shared Telus, Bell, and SaskTel</td>\n",
       "    </tr>\n",
       "  </tbody>\n",
       "</table>\n",
       "</div>"
      ],
      "text/plain": [
       "   MCC  MNC ISO Country                                        Brand  \\\n",
       "0  302  220  CA  Canada  Telus Mobility, Koodo Mobile, Public Mobile   \n",
       "1  302  610  CA  Canada                                Bell Mobility   \n",
       "2  302  880  CA  Canada                       Bell / Telus / SaskTel   \n",
       "\n",
       "                          Operator  \n",
       "0                   Telus Mobility  \n",
       "1                    Bell Mobility  \n",
       "2  Shared Telus, Bell, and SaskTel  "
      ]
     },
     "execution_count": 20,
     "metadata": {},
     "output_type": "execute_result"
    }
   ],
   "source": [
    "cgi.head()"
   ]
  },
  {
   "cell_type": "code",
   "execution_count": 21,
   "id": "162420e5",
   "metadata": {},
   "outputs": [
    {
     "data": {
      "text/plain": [
       "MCC          int64\n",
       "MNC          int64\n",
       "ISO         object\n",
       "Country     object\n",
       "Brand       object\n",
       "Operator    object\n",
       "dtype: object"
      ]
     },
     "execution_count": 21,
     "metadata": {},
     "output_type": "execute_result"
    }
   ],
   "source": [
    "cgi.dtypes"
   ]
  },
  {
   "cell_type": "code",
   "execution_count": 22,
   "id": "1a981a16",
   "metadata": {},
   "outputs": [
    {
     "data": {
      "text/plain": [
       "MCC         object\n",
       "MNC         object\n",
       "ISO         object\n",
       "Country     object\n",
       "Brand       object\n",
       "Operator    object\n",
       "dtype: object"
      ]
     },
     "execution_count": 22,
     "metadata": {},
     "output_type": "execute_result"
    }
   ],
   "source": [
    "cgi.MCC = cgi.MCC.astype('object')\n",
    "cgi.MNC = cgi.MNC.astype('object')\n",
    "cgi.dtypes"
   ]
  },
  {
   "cell_type": "markdown",
   "id": "e2603cf6",
   "metadata": {},
   "source": [
    "### 2. Merging the data"
   ]
  },
  {
   "cell_type": "code",
   "execution_count": 23,
   "id": "c084093f",
   "metadata": {},
   "outputs": [],
   "source": [
    "df = pd.merge(poseidon, geo, left_on = 'Poseidon CTC Mall Geofence Cell List', right_on = 'cgi_id')\n"
   ]
  },
  {
   "cell_type": "code",
   "execution_count": 24,
   "id": "d489113f",
   "metadata": {},
   "outputs": [
    {
     "data": {
      "text/html": [
       "<div>\n",
       "<style scoped>\n",
       "    .dataframe tbody tr th:only-of-type {\n",
       "        vertical-align: middle;\n",
       "    }\n",
       "\n",
       "    .dataframe tbody tr th {\n",
       "        vertical-align: top;\n",
       "    }\n",
       "\n",
       "    .dataframe thead th {\n",
       "        text-align: right;\n",
       "    }\n",
       "</style>\n",
       "<table border=\"1\" class=\"dataframe\">\n",
       "  <thead>\n",
       "    <tr style=\"text-align: right;\">\n",
       "      <th></th>\n",
       "      <th>Poseidon CTC Mall Geofence Cell List</th>\n",
       "      <th>imsi_id</th>\n",
       "      <th>event_ts</th>\n",
       "      <th>cgi_id</th>\n",
       "    </tr>\n",
       "  </thead>\n",
       "  <tbody>\n",
       "    <tr>\n",
       "      <th>0</th>\n",
       "      <td>4G:302-220-113122-132</td>\n",
       "      <td>b58217bd1fe520ae4cb6a2228ea1cffa68590965cc5ba8...</td>\n",
       "      <td>01/09/2020 18:21</td>\n",
       "      <td>4G:302-220-113122-132</td>\n",
       "    </tr>\n",
       "    <tr>\n",
       "      <th>1</th>\n",
       "      <td>4G:302-220-113122-132</td>\n",
       "      <td>2f65da3d1f0ed00d831a2037868732a262523d6231e9bf...</td>\n",
       "      <td>01/09/2020 13:59</td>\n",
       "      <td>4G:302-220-113122-132</td>\n",
       "    </tr>\n",
       "    <tr>\n",
       "      <th>2</th>\n",
       "      <td>4G:302-220-113122-132</td>\n",
       "      <td>450c1b07f639674e3e004251fb86ce273ac21bc1c1754e...</td>\n",
       "      <td>01/09/2020 23:28</td>\n",
       "      <td>4G:302-220-113122-132</td>\n",
       "    </tr>\n",
       "    <tr>\n",
       "      <th>3</th>\n",
       "      <td>4G:302-220-113122-132</td>\n",
       "      <td>2f627a032a70455a80760c51c0c8cc9282c87f52a25703...</td>\n",
       "      <td>01/09/2020 21:13</td>\n",
       "      <td>4G:302-220-113122-132</td>\n",
       "    </tr>\n",
       "    <tr>\n",
       "      <th>4</th>\n",
       "      <td>4G:302-220-113122-42</td>\n",
       "      <td>044aa99b8a013c64e3924cf76dec7c9a25d7315bcaccaf...</td>\n",
       "      <td>01/09/2020 3:29</td>\n",
       "      <td>4G:302-220-113122-42</td>\n",
       "    </tr>\n",
       "  </tbody>\n",
       "</table>\n",
       "</div>"
      ],
      "text/plain": [
       "  Poseidon CTC Mall Geofence Cell List  \\\n",
       "0                4G:302-220-113122-132   \n",
       "1                4G:302-220-113122-132   \n",
       "2                4G:302-220-113122-132   \n",
       "3                4G:302-220-113122-132   \n",
       "4                 4G:302-220-113122-42   \n",
       "\n",
       "                                             imsi_id          event_ts  \\\n",
       "0  b58217bd1fe520ae4cb6a2228ea1cffa68590965cc5ba8...  01/09/2020 18:21   \n",
       "1  2f65da3d1f0ed00d831a2037868732a262523d6231e9bf...  01/09/2020 13:59   \n",
       "2  450c1b07f639674e3e004251fb86ce273ac21bc1c1754e...  01/09/2020 23:28   \n",
       "3  2f627a032a70455a80760c51c0c8cc9282c87f52a25703...  01/09/2020 21:13   \n",
       "4  044aa99b8a013c64e3924cf76dec7c9a25d7315bcaccaf...   01/09/2020 3:29   \n",
       "\n",
       "                  cgi_id  \n",
       "0  4G:302-220-113122-132  \n",
       "1  4G:302-220-113122-132  \n",
       "2  4G:302-220-113122-132  \n",
       "3  4G:302-220-113122-132  \n",
       "4   4G:302-220-113122-42  "
      ]
     },
     "execution_count": 24,
     "metadata": {},
     "output_type": "execute_result"
    }
   ],
   "source": [
    "df.head()"
   ]
  },
  {
   "cell_type": "code",
   "execution_count": 25,
   "id": "970a5481",
   "metadata": {},
   "outputs": [
    {
     "data": {
      "text/plain": [
       "(432, 4)"
      ]
     },
     "execution_count": 25,
     "metadata": {},
     "output_type": "execute_result"
    }
   ],
   "source": [
    "df.shape"
   ]
  },
  {
   "cell_type": "markdown",
   "id": "7c877a9b",
   "metadata": {},
   "source": [
    "**checking unique values for cgi_id**"
   ]
  },
  {
   "cell_type": "markdown",
   "id": "34558f87",
   "metadata": {},
   "source": [
    "Unique cells corresponding to Poseidon CTC Mall:"
   ]
  },
  {
   "cell_type": "code",
   "execution_count": 26,
   "id": "3fc99d2a",
   "metadata": {},
   "outputs": [
    {
     "data": {
      "text/plain": [
       "21"
      ]
     },
     "execution_count": 26,
     "metadata": {},
     "output_type": "execute_result"
    }
   ],
   "source": [
    "df.cgi_id.nunique()"
   ]
  },
  {
   "cell_type": "markdown",
   "id": "564cd509",
   "metadata": {},
   "source": [
    "Unique client Ids (clients to be analized)"
   ]
  },
  {
   "cell_type": "code",
   "execution_count": 27,
   "id": "f3c1e661",
   "metadata": {},
   "outputs": [
    {
     "data": {
      "text/plain": [
       "33"
      ]
     },
     "execution_count": 27,
     "metadata": {},
     "output_type": "execute_result"
    }
   ],
   "source": [
    "df.imsi_id.nunique()"
   ]
  },
  {
   "cell_type": "markdown",
   "id": "2edc52ac",
   "metadata": {},
   "source": [
    "**Extract Information from CGI: MCC - MNC - LAC - CI**"
   ]
  },
  {
   "cell_type": "code",
   "execution_count": 28,
   "id": "a85cc58c",
   "metadata": {},
   "outputs": [],
   "source": [
    "#just copy\n",
    "df2 = copy.deepcopy(df)"
   ]
  },
  {
   "cell_type": "code",
   "execution_count": 29,
   "id": "03621046",
   "metadata": {},
   "outputs": [],
   "source": [
    "new = df[\"cgi_id\"].str.split(\"-\", n = 4, expand = True)"
   ]
  },
  {
   "cell_type": "code",
   "execution_count": 30,
   "id": "538a5d37",
   "metadata": {},
   "outputs": [
    {
     "data": {
      "text/html": [
       "<div>\n",
       "<style scoped>\n",
       "    .dataframe tbody tr th:only-of-type {\n",
       "        vertical-align: middle;\n",
       "    }\n",
       "\n",
       "    .dataframe tbody tr th {\n",
       "        vertical-align: top;\n",
       "    }\n",
       "\n",
       "    .dataframe thead th {\n",
       "        text-align: right;\n",
       "    }\n",
       "</style>\n",
       "<table border=\"1\" class=\"dataframe\">\n",
       "  <thead>\n",
       "    <tr style=\"text-align: right;\">\n",
       "      <th></th>\n",
       "      <th>0</th>\n",
       "      <th>1</th>\n",
       "      <th>2</th>\n",
       "      <th>3</th>\n",
       "    </tr>\n",
       "  </thead>\n",
       "  <tbody>\n",
       "    <tr>\n",
       "      <th>0</th>\n",
       "      <td>4G:302</td>\n",
       "      <td>220</td>\n",
       "      <td>113122</td>\n",
       "      <td>132</td>\n",
       "    </tr>\n",
       "    <tr>\n",
       "      <th>1</th>\n",
       "      <td>4G:302</td>\n",
       "      <td>220</td>\n",
       "      <td>113122</td>\n",
       "      <td>132</td>\n",
       "    </tr>\n",
       "    <tr>\n",
       "      <th>2</th>\n",
       "      <td>4G:302</td>\n",
       "      <td>220</td>\n",
       "      <td>113122</td>\n",
       "      <td>132</td>\n",
       "    </tr>\n",
       "    <tr>\n",
       "      <th>3</th>\n",
       "      <td>4G:302</td>\n",
       "      <td>220</td>\n",
       "      <td>113122</td>\n",
       "      <td>132</td>\n",
       "    </tr>\n",
       "    <tr>\n",
       "      <th>4</th>\n",
       "      <td>4G:302</td>\n",
       "      <td>220</td>\n",
       "      <td>113122</td>\n",
       "      <td>42</td>\n",
       "    </tr>\n",
       "  </tbody>\n",
       "</table>\n",
       "</div>"
      ],
      "text/plain": [
       "        0    1       2    3\n",
       "0  4G:302  220  113122  132\n",
       "1  4G:302  220  113122  132\n",
       "2  4G:302  220  113122  132\n",
       "3  4G:302  220  113122  132\n",
       "4  4G:302  220  113122   42"
      ]
     },
     "execution_count": 30,
     "metadata": {},
     "output_type": "execute_result"
    }
   ],
   "source": [
    "new.head()"
   ]
  },
  {
   "cell_type": "code",
   "execution_count": 31,
   "id": "0f625f87",
   "metadata": {},
   "outputs": [],
   "source": [
    "broad_MCC = pd.DataFrame(new[0])"
   ]
  },
  {
   "cell_type": "markdown",
   "id": "a4c40a8e",
   "metadata": {},
   "source": [
    "If broadband does not contain 4G then place \"other\""
   ]
  },
  {
   "cell_type": "code",
   "execution_count": 32,
   "id": "b6e260bf",
   "metadata": {},
   "outputs": [],
   "source": [
    "broad_MCC[1] = broad_MCC[0].map(lambda x: \"4G\" if \"4G\" in x else 'Other')"
   ]
  },
  {
   "cell_type": "markdown",
   "id": "e1119392",
   "metadata": {},
   "source": [
    "**Beacuse MCC is always a 3 digit character, then we extraf last 3 characters:**"
   ]
  },
  {
   "cell_type": "code",
   "execution_count": 33,
   "id": "ae0f453b",
   "metadata": {},
   "outputs": [],
   "source": [
    "broad_MCC[2] = broad_MCC[0].str[-3:]"
   ]
  },
  {
   "cell_type": "code",
   "execution_count": 34,
   "id": "f372d446",
   "metadata": {},
   "outputs": [
    {
     "data": {
      "text/plain": [
       "1"
      ]
     },
     "execution_count": 34,
     "metadata": {},
     "output_type": "execute_result"
    }
   ],
   "source": [
    "broad_MCC[2].nunique() #indeed we have only 1 value."
   ]
  },
  {
   "cell_type": "code",
   "execution_count": 35,
   "id": "eecbd57c",
   "metadata": {},
   "outputs": [
    {
     "data": {
      "text/html": [
       "<div>\n",
       "<style scoped>\n",
       "    .dataframe tbody tr th:only-of-type {\n",
       "        vertical-align: middle;\n",
       "    }\n",
       "\n",
       "    .dataframe tbody tr th {\n",
       "        vertical-align: top;\n",
       "    }\n",
       "\n",
       "    .dataframe thead th {\n",
       "        text-align: right;\n",
       "    }\n",
       "</style>\n",
       "<table border=\"1\" class=\"dataframe\">\n",
       "  <thead>\n",
       "    <tr style=\"text-align: right;\">\n",
       "      <th></th>\n",
       "      <th>0</th>\n",
       "      <th>1</th>\n",
       "      <th>2</th>\n",
       "    </tr>\n",
       "  </thead>\n",
       "  <tbody>\n",
       "    <tr>\n",
       "      <th>0</th>\n",
       "      <td>4G:302</td>\n",
       "      <td>4G</td>\n",
       "      <td>302</td>\n",
       "    </tr>\n",
       "    <tr>\n",
       "      <th>1</th>\n",
       "      <td>4G:302</td>\n",
       "      <td>4G</td>\n",
       "      <td>302</td>\n",
       "    </tr>\n",
       "    <tr>\n",
       "      <th>2</th>\n",
       "      <td>4G:302</td>\n",
       "      <td>4G</td>\n",
       "      <td>302</td>\n",
       "    </tr>\n",
       "    <tr>\n",
       "      <th>3</th>\n",
       "      <td>4G:302</td>\n",
       "      <td>4G</td>\n",
       "      <td>302</td>\n",
       "    </tr>\n",
       "    <tr>\n",
       "      <th>4</th>\n",
       "      <td>4G:302</td>\n",
       "      <td>4G</td>\n",
       "      <td>302</td>\n",
       "    </tr>\n",
       "  </tbody>\n",
       "</table>\n",
       "</div>"
      ],
      "text/plain": [
       "        0   1    2\n",
       "0  4G:302  4G  302\n",
       "1  4G:302  4G  302\n",
       "2  4G:302  4G  302\n",
       "3  4G:302  4G  302\n",
       "4  4G:302  4G  302"
      ]
     },
     "execution_count": 35,
     "metadata": {},
     "output_type": "execute_result"
    }
   ],
   "source": [
    "broad_MCC.head()"
   ]
  },
  {
   "cell_type": "markdown",
   "id": "1f214eb0",
   "metadata": {},
   "source": [
    "### Feature Engineering (part 1)"
   ]
  },
  {
   "cell_type": "code",
   "execution_count": 36,
   "id": "49d23379",
   "metadata": {},
   "outputs": [],
   "source": [
    "df['broadband'] = broad_MCC[1]"
   ]
  },
  {
   "cell_type": "code",
   "execution_count": 37,
   "id": "68d0e821",
   "metadata": {},
   "outputs": [],
   "source": [
    "df['MCC'] = broad_MCC[2]"
   ]
  },
  {
   "cell_type": "code",
   "execution_count": 38,
   "id": "a676cf11",
   "metadata": {},
   "outputs": [],
   "source": [
    "df['MNC'] =  new[1]"
   ]
  },
  {
   "cell_type": "code",
   "execution_count": 39,
   "id": "419618b8",
   "metadata": {},
   "outputs": [],
   "source": [
    "df['LAC'] =  new[2]"
   ]
  },
  {
   "cell_type": "code",
   "execution_count": 40,
   "id": "1c35fb74",
   "metadata": {},
   "outputs": [],
   "source": [
    "df['CI'] =  new[3]"
   ]
  },
  {
   "cell_type": "code",
   "execution_count": 41,
   "id": "e907fc03",
   "metadata": {},
   "outputs": [
    {
     "data": {
      "text/html": [
       "<div>\n",
       "<style scoped>\n",
       "    .dataframe tbody tr th:only-of-type {\n",
       "        vertical-align: middle;\n",
       "    }\n",
       "\n",
       "    .dataframe tbody tr th {\n",
       "        vertical-align: top;\n",
       "    }\n",
       "\n",
       "    .dataframe thead th {\n",
       "        text-align: right;\n",
       "    }\n",
       "</style>\n",
       "<table border=\"1\" class=\"dataframe\">\n",
       "  <thead>\n",
       "    <tr style=\"text-align: right;\">\n",
       "      <th></th>\n",
       "      <th>Poseidon CTC Mall Geofence Cell List</th>\n",
       "      <th>imsi_id</th>\n",
       "      <th>event_ts</th>\n",
       "      <th>cgi_id</th>\n",
       "      <th>broadband</th>\n",
       "      <th>MCC</th>\n",
       "      <th>MNC</th>\n",
       "      <th>LAC</th>\n",
       "      <th>CI</th>\n",
       "    </tr>\n",
       "  </thead>\n",
       "  <tbody>\n",
       "    <tr>\n",
       "      <th>0</th>\n",
       "      <td>4G:302-220-113122-132</td>\n",
       "      <td>b58217bd1fe520ae4cb6a2228ea1cffa68590965cc5ba8...</td>\n",
       "      <td>01/09/2020 18:21</td>\n",
       "      <td>4G:302-220-113122-132</td>\n",
       "      <td>4G</td>\n",
       "      <td>302</td>\n",
       "      <td>220</td>\n",
       "      <td>113122</td>\n",
       "      <td>132</td>\n",
       "    </tr>\n",
       "    <tr>\n",
       "      <th>1</th>\n",
       "      <td>4G:302-220-113122-132</td>\n",
       "      <td>2f65da3d1f0ed00d831a2037868732a262523d6231e9bf...</td>\n",
       "      <td>01/09/2020 13:59</td>\n",
       "      <td>4G:302-220-113122-132</td>\n",
       "      <td>4G</td>\n",
       "      <td>302</td>\n",
       "      <td>220</td>\n",
       "      <td>113122</td>\n",
       "      <td>132</td>\n",
       "    </tr>\n",
       "    <tr>\n",
       "      <th>2</th>\n",
       "      <td>4G:302-220-113122-132</td>\n",
       "      <td>450c1b07f639674e3e004251fb86ce273ac21bc1c1754e...</td>\n",
       "      <td>01/09/2020 23:28</td>\n",
       "      <td>4G:302-220-113122-132</td>\n",
       "      <td>4G</td>\n",
       "      <td>302</td>\n",
       "      <td>220</td>\n",
       "      <td>113122</td>\n",
       "      <td>132</td>\n",
       "    </tr>\n",
       "    <tr>\n",
       "      <th>3</th>\n",
       "      <td>4G:302-220-113122-132</td>\n",
       "      <td>2f627a032a70455a80760c51c0c8cc9282c87f52a25703...</td>\n",
       "      <td>01/09/2020 21:13</td>\n",
       "      <td>4G:302-220-113122-132</td>\n",
       "      <td>4G</td>\n",
       "      <td>302</td>\n",
       "      <td>220</td>\n",
       "      <td>113122</td>\n",
       "      <td>132</td>\n",
       "    </tr>\n",
       "    <tr>\n",
       "      <th>4</th>\n",
       "      <td>4G:302-220-113122-42</td>\n",
       "      <td>044aa99b8a013c64e3924cf76dec7c9a25d7315bcaccaf...</td>\n",
       "      <td>01/09/2020 3:29</td>\n",
       "      <td>4G:302-220-113122-42</td>\n",
       "      <td>4G</td>\n",
       "      <td>302</td>\n",
       "      <td>220</td>\n",
       "      <td>113122</td>\n",
       "      <td>42</td>\n",
       "    </tr>\n",
       "  </tbody>\n",
       "</table>\n",
       "</div>"
      ],
      "text/plain": [
       "  Poseidon CTC Mall Geofence Cell List  \\\n",
       "0                4G:302-220-113122-132   \n",
       "1                4G:302-220-113122-132   \n",
       "2                4G:302-220-113122-132   \n",
       "3                4G:302-220-113122-132   \n",
       "4                 4G:302-220-113122-42   \n",
       "\n",
       "                                             imsi_id          event_ts  \\\n",
       "0  b58217bd1fe520ae4cb6a2228ea1cffa68590965cc5ba8...  01/09/2020 18:21   \n",
       "1  2f65da3d1f0ed00d831a2037868732a262523d6231e9bf...  01/09/2020 13:59   \n",
       "2  450c1b07f639674e3e004251fb86ce273ac21bc1c1754e...  01/09/2020 23:28   \n",
       "3  2f627a032a70455a80760c51c0c8cc9282c87f52a25703...  01/09/2020 21:13   \n",
       "4  044aa99b8a013c64e3924cf76dec7c9a25d7315bcaccaf...   01/09/2020 3:29   \n",
       "\n",
       "                  cgi_id broadband  MCC  MNC     LAC   CI  \n",
       "0  4G:302-220-113122-132        4G  302  220  113122  132  \n",
       "1  4G:302-220-113122-132        4G  302  220  113122  132  \n",
       "2  4G:302-220-113122-132        4G  302  220  113122  132  \n",
       "3  4G:302-220-113122-132        4G  302  220  113122  132  \n",
       "4   4G:302-220-113122-42        4G  302  220  113122   42  "
      ]
     },
     "execution_count": 41,
     "metadata": {},
     "output_type": "execute_result"
    }
   ],
   "source": [
    "df.head()"
   ]
  },
  {
   "cell_type": "markdown",
   "id": "dfed50a3",
   "metadata": {},
   "source": [
    "**Dropping unnessary columns**"
   ]
  },
  {
   "cell_type": "code",
   "execution_count": 42,
   "id": "f36465a1",
   "metadata": {},
   "outputs": [],
   "source": [
    "df.drop(columns=['Poseidon CTC Mall Geofence Cell List', 'cgi_id'], inplace = True)"
   ]
  },
  {
   "cell_type": "code",
   "execution_count": 43,
   "id": "9d620c0a",
   "metadata": {},
   "outputs": [
    {
     "data": {
      "text/html": [
       "<div>\n",
       "<style scoped>\n",
       "    .dataframe tbody tr th:only-of-type {\n",
       "        vertical-align: middle;\n",
       "    }\n",
       "\n",
       "    .dataframe tbody tr th {\n",
       "        vertical-align: top;\n",
       "    }\n",
       "\n",
       "    .dataframe thead th {\n",
       "        text-align: right;\n",
       "    }\n",
       "</style>\n",
       "<table border=\"1\" class=\"dataframe\">\n",
       "  <thead>\n",
       "    <tr style=\"text-align: right;\">\n",
       "      <th></th>\n",
       "      <th>imsi_id</th>\n",
       "      <th>event_ts</th>\n",
       "      <th>broadband</th>\n",
       "      <th>MCC</th>\n",
       "      <th>MNC</th>\n",
       "      <th>LAC</th>\n",
       "      <th>CI</th>\n",
       "    </tr>\n",
       "  </thead>\n",
       "  <tbody>\n",
       "    <tr>\n",
       "      <th>0</th>\n",
       "      <td>b58217bd1fe520ae4cb6a2228ea1cffa68590965cc5ba8...</td>\n",
       "      <td>01/09/2020 18:21</td>\n",
       "      <td>4G</td>\n",
       "      <td>302</td>\n",
       "      <td>220</td>\n",
       "      <td>113122</td>\n",
       "      <td>132</td>\n",
       "    </tr>\n",
       "    <tr>\n",
       "      <th>1</th>\n",
       "      <td>2f65da3d1f0ed00d831a2037868732a262523d6231e9bf...</td>\n",
       "      <td>01/09/2020 13:59</td>\n",
       "      <td>4G</td>\n",
       "      <td>302</td>\n",
       "      <td>220</td>\n",
       "      <td>113122</td>\n",
       "      <td>132</td>\n",
       "    </tr>\n",
       "    <tr>\n",
       "      <th>2</th>\n",
       "      <td>450c1b07f639674e3e004251fb86ce273ac21bc1c1754e...</td>\n",
       "      <td>01/09/2020 23:28</td>\n",
       "      <td>4G</td>\n",
       "      <td>302</td>\n",
       "      <td>220</td>\n",
       "      <td>113122</td>\n",
       "      <td>132</td>\n",
       "    </tr>\n",
       "    <tr>\n",
       "      <th>3</th>\n",
       "      <td>2f627a032a70455a80760c51c0c8cc9282c87f52a25703...</td>\n",
       "      <td>01/09/2020 21:13</td>\n",
       "      <td>4G</td>\n",
       "      <td>302</td>\n",
       "      <td>220</td>\n",
       "      <td>113122</td>\n",
       "      <td>132</td>\n",
       "    </tr>\n",
       "    <tr>\n",
       "      <th>4</th>\n",
       "      <td>044aa99b8a013c64e3924cf76dec7c9a25d7315bcaccaf...</td>\n",
       "      <td>01/09/2020 3:29</td>\n",
       "      <td>4G</td>\n",
       "      <td>302</td>\n",
       "      <td>220</td>\n",
       "      <td>113122</td>\n",
       "      <td>42</td>\n",
       "    </tr>\n",
       "  </tbody>\n",
       "</table>\n",
       "</div>"
      ],
      "text/plain": [
       "                                             imsi_id          event_ts  \\\n",
       "0  b58217bd1fe520ae4cb6a2228ea1cffa68590965cc5ba8...  01/09/2020 18:21   \n",
       "1  2f65da3d1f0ed00d831a2037868732a262523d6231e9bf...  01/09/2020 13:59   \n",
       "2  450c1b07f639674e3e004251fb86ce273ac21bc1c1754e...  01/09/2020 23:28   \n",
       "3  2f627a032a70455a80760c51c0c8cc9282c87f52a25703...  01/09/2020 21:13   \n",
       "4  044aa99b8a013c64e3924cf76dec7c9a25d7315bcaccaf...   01/09/2020 3:29   \n",
       "\n",
       "  broadband  MCC  MNC     LAC   CI  \n",
       "0        4G  302  220  113122  132  \n",
       "1        4G  302  220  113122  132  \n",
       "2        4G  302  220  113122  132  \n",
       "3        4G  302  220  113122  132  \n",
       "4        4G  302  220  113122   42  "
      ]
     },
     "execution_count": 43,
     "metadata": {},
     "output_type": "execute_result"
    }
   ],
   "source": [
    "df.head()"
   ]
  },
  {
   "cell_type": "code",
   "execution_count": 44,
   "id": "c3a1ea75",
   "metadata": {},
   "outputs": [],
   "source": [
    "df2 = copy.deepcopy(df)"
   ]
  },
  {
   "cell_type": "markdown",
   "id": "b8961763",
   "metadata": {},
   "source": [
    "**converting data types to able to merge data**"
   ]
  },
  {
   "cell_type": "code",
   "execution_count": 45,
   "id": "4a419bfe",
   "metadata": {},
   "outputs": [],
   "source": [
    "df.MCC = df.MCC.astype('str')\n",
    "df.MNC = df.MNC.astype('str')\n",
    "cgi.MCC = cgi.MCC.astype('str')\n",
    "cgi.MNC = cgi.MNC.astype('str')\n"
   ]
  },
  {
   "cell_type": "code",
   "execution_count": 46,
   "id": "e3a4be3c",
   "metadata": {},
   "outputs": [],
   "source": [
    "telco = pd.merge(df, cgi, how = 'left', left_on = ['MCC', 'MNC'], right_on = ['MCC', 'MNC' ])"
   ]
  },
  {
   "cell_type": "code",
   "execution_count": 47,
   "id": "8a6c0eca",
   "metadata": {},
   "outputs": [
    {
     "data": {
      "text/html": [
       "<div>\n",
       "<style scoped>\n",
       "    .dataframe tbody tr th:only-of-type {\n",
       "        vertical-align: middle;\n",
       "    }\n",
       "\n",
       "    .dataframe tbody tr th {\n",
       "        vertical-align: top;\n",
       "    }\n",
       "\n",
       "    .dataframe thead th {\n",
       "        text-align: right;\n",
       "    }\n",
       "</style>\n",
       "<table border=\"1\" class=\"dataframe\">\n",
       "  <thead>\n",
       "    <tr style=\"text-align: right;\">\n",
       "      <th></th>\n",
       "      <th>imsi_id</th>\n",
       "      <th>event_ts</th>\n",
       "      <th>broadband</th>\n",
       "      <th>MCC</th>\n",
       "      <th>MNC</th>\n",
       "      <th>LAC</th>\n",
       "      <th>CI</th>\n",
       "      <th>ISO</th>\n",
       "      <th>Country</th>\n",
       "      <th>Brand</th>\n",
       "      <th>Operator</th>\n",
       "    </tr>\n",
       "  </thead>\n",
       "  <tbody>\n",
       "    <tr>\n",
       "      <th>0</th>\n",
       "      <td>b58217bd1fe520ae4cb6a2228ea1cffa68590965cc5ba8...</td>\n",
       "      <td>01/09/2020 18:21</td>\n",
       "      <td>4G</td>\n",
       "      <td>302</td>\n",
       "      <td>220</td>\n",
       "      <td>113122</td>\n",
       "      <td>132</td>\n",
       "      <td>CA</td>\n",
       "      <td>Canada</td>\n",
       "      <td>Telus Mobility, Koodo Mobile, Public Mobile</td>\n",
       "      <td>Telus Mobility</td>\n",
       "    </tr>\n",
       "    <tr>\n",
       "      <th>1</th>\n",
       "      <td>2f65da3d1f0ed00d831a2037868732a262523d6231e9bf...</td>\n",
       "      <td>01/09/2020 13:59</td>\n",
       "      <td>4G</td>\n",
       "      <td>302</td>\n",
       "      <td>220</td>\n",
       "      <td>113122</td>\n",
       "      <td>132</td>\n",
       "      <td>CA</td>\n",
       "      <td>Canada</td>\n",
       "      <td>Telus Mobility, Koodo Mobile, Public Mobile</td>\n",
       "      <td>Telus Mobility</td>\n",
       "    </tr>\n",
       "    <tr>\n",
       "      <th>2</th>\n",
       "      <td>450c1b07f639674e3e004251fb86ce273ac21bc1c1754e...</td>\n",
       "      <td>01/09/2020 23:28</td>\n",
       "      <td>4G</td>\n",
       "      <td>302</td>\n",
       "      <td>220</td>\n",
       "      <td>113122</td>\n",
       "      <td>132</td>\n",
       "      <td>CA</td>\n",
       "      <td>Canada</td>\n",
       "      <td>Telus Mobility, Koodo Mobile, Public Mobile</td>\n",
       "      <td>Telus Mobility</td>\n",
       "    </tr>\n",
       "    <tr>\n",
       "      <th>3</th>\n",
       "      <td>2f627a032a70455a80760c51c0c8cc9282c87f52a25703...</td>\n",
       "      <td>01/09/2020 21:13</td>\n",
       "      <td>4G</td>\n",
       "      <td>302</td>\n",
       "      <td>220</td>\n",
       "      <td>113122</td>\n",
       "      <td>132</td>\n",
       "      <td>CA</td>\n",
       "      <td>Canada</td>\n",
       "      <td>Telus Mobility, Koodo Mobile, Public Mobile</td>\n",
       "      <td>Telus Mobility</td>\n",
       "    </tr>\n",
       "    <tr>\n",
       "      <th>4</th>\n",
       "      <td>044aa99b8a013c64e3924cf76dec7c9a25d7315bcaccaf...</td>\n",
       "      <td>01/09/2020 3:29</td>\n",
       "      <td>4G</td>\n",
       "      <td>302</td>\n",
       "      <td>220</td>\n",
       "      <td>113122</td>\n",
       "      <td>42</td>\n",
       "      <td>CA</td>\n",
       "      <td>Canada</td>\n",
       "      <td>Telus Mobility, Koodo Mobile, Public Mobile</td>\n",
       "      <td>Telus Mobility</td>\n",
       "    </tr>\n",
       "  </tbody>\n",
       "</table>\n",
       "</div>"
      ],
      "text/plain": [
       "                                             imsi_id          event_ts  \\\n",
       "0  b58217bd1fe520ae4cb6a2228ea1cffa68590965cc5ba8...  01/09/2020 18:21   \n",
       "1  2f65da3d1f0ed00d831a2037868732a262523d6231e9bf...  01/09/2020 13:59   \n",
       "2  450c1b07f639674e3e004251fb86ce273ac21bc1c1754e...  01/09/2020 23:28   \n",
       "3  2f627a032a70455a80760c51c0c8cc9282c87f52a25703...  01/09/2020 21:13   \n",
       "4  044aa99b8a013c64e3924cf76dec7c9a25d7315bcaccaf...   01/09/2020 3:29   \n",
       "\n",
       "  broadband  MCC  MNC     LAC   CI ISO Country  \\\n",
       "0        4G  302  220  113122  132  CA  Canada   \n",
       "1        4G  302  220  113122  132  CA  Canada   \n",
       "2        4G  302  220  113122  132  CA  Canada   \n",
       "3        4G  302  220  113122  132  CA  Canada   \n",
       "4        4G  302  220  113122   42  CA  Canada   \n",
       "\n",
       "                                         Brand        Operator  \n",
       "0  Telus Mobility, Koodo Mobile, Public Mobile  Telus Mobility  \n",
       "1  Telus Mobility, Koodo Mobile, Public Mobile  Telus Mobility  \n",
       "2  Telus Mobility, Koodo Mobile, Public Mobile  Telus Mobility  \n",
       "3  Telus Mobility, Koodo Mobile, Public Mobile  Telus Mobility  \n",
       "4  Telus Mobility, Koodo Mobile, Public Mobile  Telus Mobility  "
      ]
     },
     "execution_count": 47,
     "metadata": {},
     "output_type": "execute_result"
    }
   ],
   "source": [
    "telco.head()"
   ]
  },
  {
   "cell_type": "code",
   "execution_count": 48,
   "id": "329a1043",
   "metadata": {},
   "outputs": [],
   "source": [
    "#telco.groupby('MNC').size()"
   ]
  },
  {
   "cell_type": "code",
   "execution_count": 49,
   "id": "9c330dc5",
   "metadata": {},
   "outputs": [
    {
     "data": {
      "text/plain": [
       "(432, 11)"
      ]
     },
     "execution_count": 49,
     "metadata": {},
     "output_type": "execute_result"
    }
   ],
   "source": [
    "telco.shape"
   ]
  },
  {
   "cell_type": "markdown",
   "id": "a4d4bfba",
   "metadata": {},
   "source": [
    "As we can see, we have merged the data correctly. Some columns showed previously, was to show the type of information that we have in our hands. For instance, Country and Brand: They show the country that we are analyzing, and brand has similarity with the operator. ISO also contains \"CA\"."
   ]
  },
  {
   "cell_type": "markdown",
   "id": "93a60ddd",
   "metadata": {},
   "source": [
    "From this point on, we are going to these 2 columns."
   ]
  },
  {
   "cell_type": "code",
   "execution_count": 50,
   "id": "9a547b21",
   "metadata": {},
   "outputs": [],
   "source": [
    "telco.drop(columns=['ISO', 'Country', 'Brand'], inplace = True)"
   ]
  },
  {
   "cell_type": "code",
   "execution_count": 51,
   "id": "5ce12ef1",
   "metadata": {},
   "outputs": [
    {
     "data": {
      "text/html": [
       "<div>\n",
       "<style scoped>\n",
       "    .dataframe tbody tr th:only-of-type {\n",
       "        vertical-align: middle;\n",
       "    }\n",
       "\n",
       "    .dataframe tbody tr th {\n",
       "        vertical-align: top;\n",
       "    }\n",
       "\n",
       "    .dataframe thead th {\n",
       "        text-align: right;\n",
       "    }\n",
       "</style>\n",
       "<table border=\"1\" class=\"dataframe\">\n",
       "  <thead>\n",
       "    <tr style=\"text-align: right;\">\n",
       "      <th></th>\n",
       "      <th>imsi_id</th>\n",
       "      <th>event_ts</th>\n",
       "      <th>broadband</th>\n",
       "      <th>MCC</th>\n",
       "      <th>MNC</th>\n",
       "      <th>LAC</th>\n",
       "      <th>CI</th>\n",
       "      <th>Operator</th>\n",
       "    </tr>\n",
       "  </thead>\n",
       "  <tbody>\n",
       "    <tr>\n",
       "      <th>0</th>\n",
       "      <td>b58217bd1fe520ae4cb6a2228ea1cffa68590965cc5ba8...</td>\n",
       "      <td>01/09/2020 18:21</td>\n",
       "      <td>4G</td>\n",
       "      <td>302</td>\n",
       "      <td>220</td>\n",
       "      <td>113122</td>\n",
       "      <td>132</td>\n",
       "      <td>Telus Mobility</td>\n",
       "    </tr>\n",
       "    <tr>\n",
       "      <th>1</th>\n",
       "      <td>2f65da3d1f0ed00d831a2037868732a262523d6231e9bf...</td>\n",
       "      <td>01/09/2020 13:59</td>\n",
       "      <td>4G</td>\n",
       "      <td>302</td>\n",
       "      <td>220</td>\n",
       "      <td>113122</td>\n",
       "      <td>132</td>\n",
       "      <td>Telus Mobility</td>\n",
       "    </tr>\n",
       "    <tr>\n",
       "      <th>2</th>\n",
       "      <td>450c1b07f639674e3e004251fb86ce273ac21bc1c1754e...</td>\n",
       "      <td>01/09/2020 23:28</td>\n",
       "      <td>4G</td>\n",
       "      <td>302</td>\n",
       "      <td>220</td>\n",
       "      <td>113122</td>\n",
       "      <td>132</td>\n",
       "      <td>Telus Mobility</td>\n",
       "    </tr>\n",
       "    <tr>\n",
       "      <th>3</th>\n",
       "      <td>2f627a032a70455a80760c51c0c8cc9282c87f52a25703...</td>\n",
       "      <td>01/09/2020 21:13</td>\n",
       "      <td>4G</td>\n",
       "      <td>302</td>\n",
       "      <td>220</td>\n",
       "      <td>113122</td>\n",
       "      <td>132</td>\n",
       "      <td>Telus Mobility</td>\n",
       "    </tr>\n",
       "    <tr>\n",
       "      <th>4</th>\n",
       "      <td>044aa99b8a013c64e3924cf76dec7c9a25d7315bcaccaf...</td>\n",
       "      <td>01/09/2020 3:29</td>\n",
       "      <td>4G</td>\n",
       "      <td>302</td>\n",
       "      <td>220</td>\n",
       "      <td>113122</td>\n",
       "      <td>42</td>\n",
       "      <td>Telus Mobility</td>\n",
       "    </tr>\n",
       "  </tbody>\n",
       "</table>\n",
       "</div>"
      ],
      "text/plain": [
       "                                             imsi_id          event_ts  \\\n",
       "0  b58217bd1fe520ae4cb6a2228ea1cffa68590965cc5ba8...  01/09/2020 18:21   \n",
       "1  2f65da3d1f0ed00d831a2037868732a262523d6231e9bf...  01/09/2020 13:59   \n",
       "2  450c1b07f639674e3e004251fb86ce273ac21bc1c1754e...  01/09/2020 23:28   \n",
       "3  2f627a032a70455a80760c51c0c8cc9282c87f52a25703...  01/09/2020 21:13   \n",
       "4  044aa99b8a013c64e3924cf76dec7c9a25d7315bcaccaf...   01/09/2020 3:29   \n",
       "\n",
       "  broadband  MCC  MNC     LAC   CI        Operator  \n",
       "0        4G  302  220  113122  132  Telus Mobility  \n",
       "1        4G  302  220  113122  132  Telus Mobility  \n",
       "2        4G  302  220  113122  132  Telus Mobility  \n",
       "3        4G  302  220  113122  132  Telus Mobility  \n",
       "4        4G  302  220  113122   42  Telus Mobility  "
      ]
     },
     "execution_count": 51,
     "metadata": {},
     "output_type": "execute_result"
    }
   ],
   "source": [
    "telco.head()"
   ]
  },
  {
   "cell_type": "markdown",
   "id": "580300c9",
   "metadata": {},
   "source": [
    "## 4. Data cleaning"
   ]
  },
  {
   "cell_type": "markdown",
   "id": "301f239d",
   "metadata": {},
   "source": [
    "**Checking Null values**"
   ]
  },
  {
   "cell_type": "code",
   "execution_count": 52,
   "id": "7afb4a29",
   "metadata": {},
   "outputs": [
    {
     "data": {
      "text/html": [
       "<div>\n",
       "<style scoped>\n",
       "    .dataframe tbody tr th:only-of-type {\n",
       "        vertical-align: middle;\n",
       "    }\n",
       "\n",
       "    .dataframe tbody tr th {\n",
       "        vertical-align: top;\n",
       "    }\n",
       "\n",
       "    .dataframe thead th {\n",
       "        text-align: right;\n",
       "    }\n",
       "</style>\n",
       "<table border=\"1\" class=\"dataframe\">\n",
       "  <thead>\n",
       "    <tr style=\"text-align: right;\">\n",
       "      <th></th>\n",
       "      <th>col_name</th>\n",
       "      <th>#</th>\n",
       "      <th>%</th>\n",
       "    </tr>\n",
       "  </thead>\n",
       "  <tbody>\n",
       "  </tbody>\n",
       "</table>\n",
       "</div>"
      ],
      "text/plain": [
       "Empty DataFrame\n",
       "Columns: [col_name, #, %]\n",
       "Index: []"
      ]
     },
     "execution_count": 52,
     "metadata": {},
     "output_type": "execute_result"
    }
   ],
   "source": [
    "telco_nulls = telco.isna().sum()[telco.isna().sum()!= 0].reset_index().rename(columns=\n",
    "                                                                        {'index': 'col_name', 0: '#'})\n",
    "telco_nulls['%'] = telco_nulls['#'] / telco.shape[0]\n",
    "telco_nulls"
   ]
  },
  {
   "cell_type": "code",
   "execution_count": 53,
   "id": "c47801b8",
   "metadata": {},
   "outputs": [
    {
     "data": {
      "text/html": [
       "<div>\n",
       "<style scoped>\n",
       "    .dataframe tbody tr th:only-of-type {\n",
       "        vertical-align: middle;\n",
       "    }\n",
       "\n",
       "    .dataframe tbody tr th {\n",
       "        vertical-align: top;\n",
       "    }\n",
       "\n",
       "    .dataframe thead th {\n",
       "        text-align: right;\n",
       "    }\n",
       "</style>\n",
       "<table border=\"1\" class=\"dataframe\">\n",
       "  <thead>\n",
       "    <tr style=\"text-align: right;\">\n",
       "      <th></th>\n",
       "      <th>imsi_id</th>\n",
       "      <th>event_ts</th>\n",
       "      <th>broadband</th>\n",
       "      <th>MCC</th>\n",
       "      <th>MNC</th>\n",
       "      <th>LAC</th>\n",
       "      <th>CI</th>\n",
       "      <th>Operator</th>\n",
       "    </tr>\n",
       "  </thead>\n",
       "  <tbody>\n",
       "    <tr>\n",
       "      <th>0</th>\n",
       "      <td>b58217bd1fe520ae4cb6a2228ea1cffa68590965cc5ba8...</td>\n",
       "      <td>01/09/2020 18:21</td>\n",
       "      <td>4G</td>\n",
       "      <td>302</td>\n",
       "      <td>220</td>\n",
       "      <td>113122</td>\n",
       "      <td>132</td>\n",
       "      <td>Telus Mobility</td>\n",
       "    </tr>\n",
       "    <tr>\n",
       "      <th>1</th>\n",
       "      <td>2f65da3d1f0ed00d831a2037868732a262523d6231e9bf...</td>\n",
       "      <td>01/09/2020 13:59</td>\n",
       "      <td>4G</td>\n",
       "      <td>302</td>\n",
       "      <td>220</td>\n",
       "      <td>113122</td>\n",
       "      <td>132</td>\n",
       "      <td>Telus Mobility</td>\n",
       "    </tr>\n",
       "    <tr>\n",
       "      <th>2</th>\n",
       "      <td>450c1b07f639674e3e004251fb86ce273ac21bc1c1754e...</td>\n",
       "      <td>01/09/2020 23:28</td>\n",
       "      <td>4G</td>\n",
       "      <td>302</td>\n",
       "      <td>220</td>\n",
       "      <td>113122</td>\n",
       "      <td>132</td>\n",
       "      <td>Telus Mobility</td>\n",
       "    </tr>\n",
       "    <tr>\n",
       "      <th>3</th>\n",
       "      <td>2f627a032a70455a80760c51c0c8cc9282c87f52a25703...</td>\n",
       "      <td>01/09/2020 21:13</td>\n",
       "      <td>4G</td>\n",
       "      <td>302</td>\n",
       "      <td>220</td>\n",
       "      <td>113122</td>\n",
       "      <td>132</td>\n",
       "      <td>Telus Mobility</td>\n",
       "    </tr>\n",
       "    <tr>\n",
       "      <th>4</th>\n",
       "      <td>044aa99b8a013c64e3924cf76dec7c9a25d7315bcaccaf...</td>\n",
       "      <td>01/09/2020 3:29</td>\n",
       "      <td>4G</td>\n",
       "      <td>302</td>\n",
       "      <td>220</td>\n",
       "      <td>113122</td>\n",
       "      <td>42</td>\n",
       "      <td>Telus Mobility</td>\n",
       "    </tr>\n",
       "  </tbody>\n",
       "</table>\n",
       "</div>"
      ],
      "text/plain": [
       "                                             imsi_id          event_ts  \\\n",
       "0  b58217bd1fe520ae4cb6a2228ea1cffa68590965cc5ba8...  01/09/2020 18:21   \n",
       "1  2f65da3d1f0ed00d831a2037868732a262523d6231e9bf...  01/09/2020 13:59   \n",
       "2  450c1b07f639674e3e004251fb86ce273ac21bc1c1754e...  01/09/2020 23:28   \n",
       "3  2f627a032a70455a80760c51c0c8cc9282c87f52a25703...  01/09/2020 21:13   \n",
       "4  044aa99b8a013c64e3924cf76dec7c9a25d7315bcaccaf...   01/09/2020 3:29   \n",
       "\n",
       "  broadband  MCC  MNC     LAC   CI        Operator  \n",
       "0        4G  302  220  113122  132  Telus Mobility  \n",
       "1        4G  302  220  113122  132  Telus Mobility  \n",
       "2        4G  302  220  113122  132  Telus Mobility  \n",
       "3        4G  302  220  113122  132  Telus Mobility  \n",
       "4        4G  302  220  113122   42  Telus Mobility  "
      ]
     },
     "execution_count": 53,
     "metadata": {},
     "output_type": "execute_result"
    }
   ],
   "source": [
    "telco.head(5)"
   ]
  },
  {
   "cell_type": "markdown",
   "id": "70c44e5e",
   "metadata": {},
   "source": [
    "No null values were found in the data."
   ]
  },
  {
   "cell_type": "markdown",
   "id": "61a650cb",
   "metadata": {},
   "source": [
    "## 5. Exploratory Data Analysis (part 1)"
   ]
  },
  {
   "cell_type": "markdown",
   "id": "71314cc1",
   "metadata": {},
   "source": [
    "The first phase of our data exploration consists in analyzing our categorical variables. In the second phase, we will be focusing on the time-based analysis."
   ]
  },
  {
   "cell_type": "markdown",
   "id": "fe109961",
   "metadata": {},
   "source": [
    "**Client Analysis**"
   ]
  },
  {
   "cell_type": "code",
   "execution_count": 54,
   "id": "2ce771a2",
   "metadata": {},
   "outputs": [
    {
     "data": {
      "text/plain": [
       "33"
      ]
     },
     "execution_count": 54,
     "metadata": {},
     "output_type": "execute_result"
    }
   ],
   "source": [
    "telco.imsi_id.nunique()"
   ]
  },
  {
   "cell_type": "code",
   "execution_count": 55,
   "id": "bafd8c45",
   "metadata": {},
   "outputs": [
    {
     "data": {
      "text/plain": [
       "432"
      ]
     },
     "execution_count": 55,
     "metadata": {},
     "output_type": "execute_result"
    }
   ],
   "source": [
    "telco.shape[0]"
   ]
  },
  {
   "cell_type": "markdown",
   "id": "e1d4f799",
   "metadata": {},
   "source": [
    "**Insight 1:** On September 1st 2020, we had a total of 432 visits covered by our current POI (located at Poseidon CTC Mall, Canada). In total, the POI served 33 unique clients. "
   ]
  },
  {
   "cell_type": "markdown",
   "id": "5db21388",
   "metadata": {},
   "source": [
    "**Broadband Analysis**"
   ]
  },
  {
   "cell_type": "code",
   "execution_count": 56,
   "id": "2bfe9a78",
   "metadata": {},
   "outputs": [
    {
     "data": {
      "text/plain": [
       "<AxesSubplot:xlabel='broadband', ylabel='count'>"
      ]
     },
     "execution_count": 56,
     "metadata": {},
     "output_type": "execute_result"
    },
    {
     "data": {
      "image/png": "[encoded data removed]",
      "text/plain": [
       "<Figure size 432x288 with 1 Axes>"
      ]
     },
     "metadata": {
      "needs_background": "light"
     },
     "output_type": "display_data"
    }
   ],
   "source": [
    "sns.countplot(telco.broadband)"
   ]
  },
  {
   "cell_type": "code",
   "execution_count": 57,
   "id": "2499d0a3",
   "metadata": {},
   "outputs": [
    {
     "data": {
      "text/plain": [
       "broadband\n",
       "4G       34.0\n",
       "Other    66.0\n",
       "dtype: float64"
      ]
     },
     "execution_count": 57,
     "metadata": {},
     "output_type": "execute_result"
    }
   ],
   "source": [
    "round(100 * telco.groupby(['broadband']).size() / telco.shape[0])"
   ]
  },
  {
   "cell_type": "markdown",
   "id": "1383dc4a",
   "metadata": {},
   "source": [
    "**Insight 2:** Our POI demanded 34% of 4G broadband and 66% of the rest. This 66% was catalogued as “other” since there was no specification on the dataset about the broadband covered on this particular points."
   ]
  },
  {
   "cell_type": "markdown",
   "id": "66ccb666",
   "metadata": {},
   "source": [
    "**MCC / MNC / LAC / CI Analysis**"
   ]
  },
  {
   "cell_type": "code",
   "execution_count": 58,
   "id": "efc7ab69",
   "metadata": {},
   "outputs": [
    {
     "data": {
      "text/plain": [
       "MCC\n",
       "302    432\n",
       "dtype: int64"
      ]
     },
     "execution_count": 58,
     "metadata": {},
     "output_type": "execute_result"
    }
   ],
   "source": [
    "telco.groupby(['MCC']).size()"
   ]
  },
  {
   "cell_type": "code",
   "execution_count": 59,
   "id": "e987994d",
   "metadata": {},
   "outputs": [
    {
     "data": {
      "text/plain": [
       "MNC\n",
       "220    431\n",
       "880      1\n",
       "dtype: int64"
      ]
     },
     "execution_count": 59,
     "metadata": {},
     "output_type": "execute_result"
    }
   ],
   "source": [
    "telco.groupby(['MNC']).size()"
   ]
  },
  {
   "cell_type": "code",
   "execution_count": 60,
   "id": "697ff3bc",
   "metadata": {},
   "outputs": [
    {
     "data": {
      "text/plain": [
       "<AxesSubplot:xlabel='LAC', ylabel='count'>"
      ]
     },
     "execution_count": 60,
     "metadata": {},
     "output_type": "execute_result"
    },
    {
     "data": {
      "image/png": "[encoded data removed]",
      "text/plain": [
       "<Figure size 432x288 with 1 Axes>"
      ]
     },
     "metadata": {
      "needs_background": "light"
     },
     "output_type": "display_data"
    }
   ],
   "source": [
    "sns.countplot(telco.LAC)"
   ]
  },
  {
   "cell_type": "code",
   "execution_count": 61,
   "id": "e84110b8",
   "metadata": {},
   "outputs": [
    {
     "data": {
      "text/html": [
       "<div>\n",
       "<style scoped>\n",
       "    .dataframe tbody tr th:only-of-type {\n",
       "        vertical-align: middle;\n",
       "    }\n",
       "\n",
       "    .dataframe tbody tr th {\n",
       "        vertical-align: top;\n",
       "    }\n",
       "\n",
       "    .dataframe thead th {\n",
       "        text-align: right;\n",
       "    }\n",
       "</style>\n",
       "<table border=\"1\" class=\"dataframe\">\n",
       "  <thead>\n",
       "    <tr style=\"text-align: right;\">\n",
       "      <th></th>\n",
       "      <th>n</th>\n",
       "      <th>%</th>\n",
       "    </tr>\n",
       "    <tr>\n",
       "      <th>LAC</th>\n",
       "      <th></th>\n",
       "      <th></th>\n",
       "    </tr>\n",
       "  </thead>\n",
       "  <tbody>\n",
       "    <tr>\n",
       "      <th>11204</th>\n",
       "      <td>285</td>\n",
       "      <td>66.0</td>\n",
       "    </tr>\n",
       "    <tr>\n",
       "      <th>113122</th>\n",
       "      <td>104</td>\n",
       "      <td>24.0</td>\n",
       "    </tr>\n",
       "    <tr>\n",
       "      <th>123353</th>\n",
       "      <td>43</td>\n",
       "      <td>10.0</td>\n",
       "    </tr>\n",
       "  </tbody>\n",
       "</table>\n",
       "</div>"
      ],
      "text/plain": [
       "          n     %\n",
       "LAC              \n",
       "11204   285  66.0\n",
       "113122  104  24.0\n",
       "123353   43  10.0"
      ]
     },
     "execution_count": 61,
     "metadata": {},
     "output_type": "execute_result"
    }
   ],
   "source": [
    "LAC = pd.DataFrame()\n",
    "LAC['n'] = telco.groupby(['LAC']).size()\n",
    "LAC['%'] = round(100 * (LAC['n'] / telco.shape[0]))\n",
    "LAC"
   ]
  },
  {
   "cell_type": "code",
   "execution_count": 62,
   "id": "1af24a03",
   "metadata": {},
   "outputs": [
    {
     "data": {
      "text/html": [
       "<div>\n",
       "<style scoped>\n",
       "    .dataframe tbody tr th:only-of-type {\n",
       "        vertical-align: middle;\n",
       "    }\n",
       "\n",
       "    .dataframe tbody tr th {\n",
       "        vertical-align: top;\n",
       "    }\n",
       "\n",
       "    .dataframe thead th {\n",
       "        text-align: right;\n",
       "    }\n",
       "</style>\n",
       "<table border=\"1\" class=\"dataframe\">\n",
       "  <thead>\n",
       "    <tr style=\"text-align: right;\">\n",
       "      <th></th>\n",
       "      <th>n</th>\n",
       "      <th>%</th>\n",
       "    </tr>\n",
       "    <tr>\n",
       "      <th>CI</th>\n",
       "      <th></th>\n",
       "      <th></th>\n",
       "    </tr>\n",
       "  </thead>\n",
       "  <tbody>\n",
       "    <tr>\n",
       "      <th>24122</th>\n",
       "      <td>111</td>\n",
       "      <td>26.0</td>\n",
       "    </tr>\n",
       "    <tr>\n",
       "      <th>24353</th>\n",
       "      <td>79</td>\n",
       "      <td>18.0</td>\n",
       "    </tr>\n",
       "    <tr>\n",
       "      <th>21122</th>\n",
       "      <td>50</td>\n",
       "      <td>12.0</td>\n",
       "    </tr>\n",
       "    <tr>\n",
       "      <th>41</th>\n",
       "      <td>48</td>\n",
       "      <td>11.0</td>\n",
       "    </tr>\n",
       "    <tr>\n",
       "      <th>25122</th>\n",
       "      <td>43</td>\n",
       "      <td>10.0</td>\n",
       "    </tr>\n",
       "    <tr>\n",
       "      <th>111</th>\n",
       "      <td>37</td>\n",
       "      <td>9.0</td>\n",
       "    </tr>\n",
       "    <tr>\n",
       "      <th>131</th>\n",
       "      <td>23</td>\n",
       "      <td>5.0</td>\n",
       "    </tr>\n",
       "    <tr>\n",
       "      <th>1</th>\n",
       "      <td>18</td>\n",
       "      <td>4.0</td>\n",
       "    </tr>\n",
       "    <tr>\n",
       "      <th>42</th>\n",
       "      <td>5</td>\n",
       "      <td>1.0</td>\n",
       "    </tr>\n",
       "    <tr>\n",
       "      <th>132</th>\n",
       "      <td>4</td>\n",
       "      <td>1.0</td>\n",
       "    </tr>\n",
       "    <tr>\n",
       "      <th>2</th>\n",
       "      <td>4</td>\n",
       "      <td>1.0</td>\n",
       "    </tr>\n",
       "    <tr>\n",
       "      <th>112</th>\n",
       "      <td>3</td>\n",
       "      <td>1.0</td>\n",
       "    </tr>\n",
       "    <tr>\n",
       "      <th>71</th>\n",
       "      <td>3</td>\n",
       "      <td>1.0</td>\n",
       "    </tr>\n",
       "    <tr>\n",
       "      <th>22122</th>\n",
       "      <td>2</td>\n",
       "      <td>0.0</td>\n",
       "    </tr>\n",
       "    <tr>\n",
       "      <th>11</th>\n",
       "      <td>1</td>\n",
       "      <td>0.0</td>\n",
       "    </tr>\n",
       "    <tr>\n",
       "      <th>22</th>\n",
       "      <td>1</td>\n",
       "      <td>0.0</td>\n",
       "    </tr>\n",
       "  </tbody>\n",
       "</table>\n",
       "</div>"
      ],
      "text/plain": [
       "         n     %\n",
       "CI              \n",
       "24122  111  26.0\n",
       "24353   79  18.0\n",
       "21122   50  12.0\n",
       "41      48  11.0\n",
       "25122   43  10.0\n",
       "111     37   9.0\n",
       "131     23   5.0\n",
       "1       18   4.0\n",
       "42       5   1.0\n",
       "132      4   1.0\n",
       "2        4   1.0\n",
       "112      3   1.0\n",
       "71       3   1.0\n",
       "22122    2   0.0\n",
       "11       1   0.0\n",
       "22       1   0.0"
      ]
     },
     "execution_count": 62,
     "metadata": {},
     "output_type": "execute_result"
    }
   ],
   "source": [
    "CI = pd.DataFrame()\n",
    "CI['n'] = telco.groupby(['CI']).size().sort_values(ascending = False)\n",
    "CI['%'] = round(100 * (CI['n'] / telco.shape[0]))\n",
    "CI"
   ]
  },
  {
   "cell_type": "markdown",
   "id": "8a3be208",
   "metadata": {},
   "source": [
    "**Insight 3:** On September 1st 2020, our POI registered two types of MNC (Mobile Network Code): 220 (441 times) and 880 (1 time). We were able to find the information regarding this codes, and extract the operator names **source: https://mcc-mnc-list.com/list**: \"Telus Mobility\" (220) and \"Shared Telus, Bell, and SaskTel (880)\""
   ]
  },
  {
   "cell_type": "markdown",
   "id": "675e3cdc",
   "metadata": {},
   "source": [
    "**Insight 4:** In addition to the previous insight, our group of cell towers is divided in 3 categories: 11204, 113122 and 123353. There was a high demand on the LAC 11204 (285 times) of about 66%; this is the most critical group so far. Our POI registered a total of 16 cells serving our Poseidon CTC Mall and most demanded CIs (Cells Ids) were: 24122 (26%), 24353 (18%) and 21122 (12%). The rest is serving around 44% of the time."
   ]
  },
  {
   "cell_type": "markdown",
   "id": "8a7b9283",
   "metadata": {},
   "source": [
    "### Exploratory Data Analysis (part 2)"
   ]
  },
  {
   "cell_type": "markdown",
   "id": "af4793e0",
   "metadata": {},
   "source": [
    "**Formatting time-based data** (**convert date time to minutes**)"
   ]
  },
  {
   "cell_type": "code",
   "execution_count": 63,
   "id": "ee6984cc",
   "metadata": {},
   "outputs": [],
   "source": [
    "telcov2 = copy.deepcopy(telco)\n",
    "#telco = telcov2"
   ]
  },
  {
   "cell_type": "code",
   "execution_count": 64,
   "id": "408b10cd",
   "metadata": {},
   "outputs": [],
   "source": [
    "telco = telcov2"
   ]
  },
  {
   "cell_type": "code",
   "execution_count": 65,
   "id": "c4642da2",
   "metadata": {},
   "outputs": [],
   "source": [
    "telco.event_ts = df.event_ts.astype('datetime64[ns]')"
   ]
  },
  {
   "cell_type": "code",
   "execution_count": 66,
   "id": "477ba442",
   "metadata": {},
   "outputs": [],
   "source": [
    "telco = telco.sort_values(by = ['event_ts'], ascending = True)"
   ]
  },
  {
   "cell_type": "code",
   "execution_count": 67,
   "id": "0e46a107",
   "metadata": {},
   "outputs": [
    {
     "data": {
      "text/html": [
       "<div>\n",
       "<style scoped>\n",
       "    .dataframe tbody tr th:only-of-type {\n",
       "        vertical-align: middle;\n",
       "    }\n",
       "\n",
       "    .dataframe tbody tr th {\n",
       "        vertical-align: top;\n",
       "    }\n",
       "\n",
       "    .dataframe thead th {\n",
       "        text-align: right;\n",
       "    }\n",
       "</style>\n",
       "<table border=\"1\" class=\"dataframe\">\n",
       "  <thead>\n",
       "    <tr style=\"text-align: right;\">\n",
       "      <th></th>\n",
       "      <th>imsi_id</th>\n",
       "      <th>event_ts</th>\n",
       "      <th>broadband</th>\n",
       "      <th>MCC</th>\n",
       "      <th>MNC</th>\n",
       "      <th>LAC</th>\n",
       "      <th>CI</th>\n",
       "      <th>Operator</th>\n",
       "      <th>hours</th>\n",
       "    </tr>\n",
       "  </thead>\n",
       "  <tbody>\n",
       "    <tr>\n",
       "      <th>61</th>\n",
       "      <td>9f6dbb4957e34ad65b4061e1ac326afa539752db6a1f57...</td>\n",
       "      <td>2020-01-09 00:00:00</td>\n",
       "      <td>4G</td>\n",
       "      <td>302</td>\n",
       "      <td>220</td>\n",
       "      <td>113122</td>\n",
       "      <td>41</td>\n",
       "      <td>Telus Mobility</td>\n",
       "      <td>0.000000</td>\n",
       "    </tr>\n",
       "    <tr>\n",
       "      <th>52</th>\n",
       "      <td>9f6dbb4957e34ad65b4061e1ac326afa539752db6a1f57...</td>\n",
       "      <td>2020-01-09 00:00:00</td>\n",
       "      <td>4G</td>\n",
       "      <td>302</td>\n",
       "      <td>220</td>\n",
       "      <td>113122</td>\n",
       "      <td>41</td>\n",
       "      <td>Telus Mobility</td>\n",
       "      <td>0.000000</td>\n",
       "    </tr>\n",
       "    <tr>\n",
       "      <th>70</th>\n",
       "      <td>9f6dbb4957e34ad65b4061e1ac326afa539752db6a1f57...</td>\n",
       "      <td>2020-01-09 00:00:00</td>\n",
       "      <td>4G</td>\n",
       "      <td>302</td>\n",
       "      <td>220</td>\n",
       "      <td>113122</td>\n",
       "      <td>41</td>\n",
       "      <td>Telus Mobility</td>\n",
       "      <td>0.000000</td>\n",
       "    </tr>\n",
       "    <tr>\n",
       "      <th>149</th>\n",
       "      <td>9dd48ceccaea12ad1ed02afa45f096bba2409f1f5e04d5...</td>\n",
       "      <td>2020-01-09 00:33:00</td>\n",
       "      <td>Other</td>\n",
       "      <td>302</td>\n",
       "      <td>220</td>\n",
       "      <td>11204</td>\n",
       "      <td>25122</td>\n",
       "      <td>Telus Mobility</td>\n",
       "      <td>0.550000</td>\n",
       "    </tr>\n",
       "    <tr>\n",
       "      <th>148</th>\n",
       "      <td>9dd48ceccaea12ad1ed02afa45f096bba2409f1f5e04d5...</td>\n",
       "      <td>2020-01-09 00:33:00</td>\n",
       "      <td>Other</td>\n",
       "      <td>302</td>\n",
       "      <td>220</td>\n",
       "      <td>11204</td>\n",
       "      <td>25122</td>\n",
       "      <td>Telus Mobility</td>\n",
       "      <td>0.550000</td>\n",
       "    </tr>\n",
       "    <tr>\n",
       "      <th>...</th>\n",
       "      <td>...</td>\n",
       "      <td>...</td>\n",
       "      <td>...</td>\n",
       "      <td>...</td>\n",
       "      <td>...</td>\n",
       "      <td>...</td>\n",
       "      <td>...</td>\n",
       "      <td>...</td>\n",
       "      <td>...</td>\n",
       "    </tr>\n",
       "    <tr>\n",
       "      <th>15</th>\n",
       "      <td>059e71d6579dadcfa0cef78ee779b671ac254549a2b4bb...</td>\n",
       "      <td>2020-01-09 23:51:00</td>\n",
       "      <td>4G</td>\n",
       "      <td>302</td>\n",
       "      <td>220</td>\n",
       "      <td>113122</td>\n",
       "      <td>2</td>\n",
       "      <td>Telus Mobility</td>\n",
       "      <td>23.850000</td>\n",
       "    </tr>\n",
       "    <tr>\n",
       "      <th>69</th>\n",
       "      <td>059e71d6579dadcfa0cef78ee779b671ac254549a2b4bb...</td>\n",
       "      <td>2020-01-09 23:53:00</td>\n",
       "      <td>4G</td>\n",
       "      <td>302</td>\n",
       "      <td>220</td>\n",
       "      <td>113122</td>\n",
       "      <td>41</td>\n",
       "      <td>Telus Mobility</td>\n",
       "      <td>23.883333</td>\n",
       "    </tr>\n",
       "    <tr>\n",
       "      <th>287</th>\n",
       "      <td>c6f43f7ae49f220a883f6b63b26024eff38ce3c2e773a6...</td>\n",
       "      <td>2020-01-09 23:54:00</td>\n",
       "      <td>Other</td>\n",
       "      <td>302</td>\n",
       "      <td>220</td>\n",
       "      <td>11204</td>\n",
       "      <td>24122</td>\n",
       "      <td>Telus Mobility</td>\n",
       "      <td>23.900000</td>\n",
       "    </tr>\n",
       "    <tr>\n",
       "      <th>45</th>\n",
       "      <td>059e71d6579dadcfa0cef78ee779b671ac254549a2b4bb...</td>\n",
       "      <td>2020-01-09 23:54:00</td>\n",
       "      <td>4G</td>\n",
       "      <td>302</td>\n",
       "      <td>220</td>\n",
       "      <td>113122</td>\n",
       "      <td>41</td>\n",
       "      <td>Telus Mobility</td>\n",
       "      <td>23.900000</td>\n",
       "    </tr>\n",
       "    <tr>\n",
       "      <th>99</th>\n",
       "      <td>059e71d6579dadcfa0cef78ee779b671ac254549a2b4bb...</td>\n",
       "      <td>2020-01-09 23:58:00</td>\n",
       "      <td>4G</td>\n",
       "      <td>302</td>\n",
       "      <td>220</td>\n",
       "      <td>113122</td>\n",
       "      <td>22</td>\n",
       "      <td>Telus Mobility</td>\n",
       "      <td>23.966667</td>\n",
       "    </tr>\n",
       "  </tbody>\n",
       "</table>\n",
       "<p>432 rows × 9 columns</p>\n",
       "</div>"
      ],
      "text/plain": [
       "                                               imsi_id            event_ts  \\\n",
       "61   9f6dbb4957e34ad65b4061e1ac326afa539752db6a1f57... 2020-01-09 00:00:00   \n",
       "52   9f6dbb4957e34ad65b4061e1ac326afa539752db6a1f57... 2020-01-09 00:00:00   \n",
       "70   9f6dbb4957e34ad65b4061e1ac326afa539752db6a1f57... 2020-01-09 00:00:00   \n",
       "149  9dd48ceccaea12ad1ed02afa45f096bba2409f1f5e04d5... 2020-01-09 00:33:00   \n",
       "148  9dd48ceccaea12ad1ed02afa45f096bba2409f1f5e04d5... 2020-01-09 00:33:00   \n",
       "..                                                 ...                 ...   \n",
       "15   059e71d6579dadcfa0cef78ee779b671ac254549a2b4bb... 2020-01-09 23:51:00   \n",
       "69   059e71d6579dadcfa0cef78ee779b671ac254549a2b4bb... 2020-01-09 23:53:00   \n",
       "287  c6f43f7ae49f220a883f6b63b26024eff38ce3c2e773a6... 2020-01-09 23:54:00   \n",
       "45   059e71d6579dadcfa0cef78ee779b671ac254549a2b4bb... 2020-01-09 23:54:00   \n",
       "99   059e71d6579dadcfa0cef78ee779b671ac254549a2b4bb... 2020-01-09 23:58:00   \n",
       "\n",
       "    broadband  MCC  MNC     LAC     CI        Operator      hours  \n",
       "61         4G  302  220  113122     41  Telus Mobility   0.000000  \n",
       "52         4G  302  220  113122     41  Telus Mobility   0.000000  \n",
       "70         4G  302  220  113122     41  Telus Mobility   0.000000  \n",
       "149     Other  302  220   11204  25122  Telus Mobility   0.550000  \n",
       "148     Other  302  220   11204  25122  Telus Mobility   0.550000  \n",
       "..        ...  ...  ...     ...    ...             ...        ...  \n",
       "15         4G  302  220  113122      2  Telus Mobility  23.850000  \n",
       "69         4G  302  220  113122     41  Telus Mobility  23.883333  \n",
       "287     Other  302  220   11204  24122  Telus Mobility  23.900000  \n",
       "45         4G  302  220  113122     41  Telus Mobility  23.900000  \n",
       "99         4G  302  220  113122     22  Telus Mobility  23.966667  \n",
       "\n",
       "[432 rows x 9 columns]"
      ]
     },
     "execution_count": 67,
     "metadata": {},
     "output_type": "execute_result"
    }
   ],
   "source": [
    "time = pd.DatetimeIndex(telco.event_ts)  # converts to datetime object index\n",
    "telco['hours'] = (time.hour  + time.minute / 60 + time.second / 3600 )\n",
    "telco"
   ]
  },
  {
   "cell_type": "code",
   "execution_count": 68,
   "id": "85c738c1",
   "metadata": {},
   "outputs": [
    {
     "data": {
      "text/html": [
       "<div>\n",
       "<style scoped>\n",
       "    .dataframe tbody tr th:only-of-type {\n",
       "        vertical-align: middle;\n",
       "    }\n",
       "\n",
       "    .dataframe tbody tr th {\n",
       "        vertical-align: top;\n",
       "    }\n",
       "\n",
       "    .dataframe thead th {\n",
       "        text-align: right;\n",
       "    }\n",
       "</style>\n",
       "<table border=\"1\" class=\"dataframe\">\n",
       "  <thead>\n",
       "    <tr style=\"text-align: right;\">\n",
       "      <th></th>\n",
       "      <th>imsi_id</th>\n",
       "      <th>event_ts</th>\n",
       "      <th>broadband</th>\n",
       "      <th>MCC</th>\n",
       "      <th>MNC</th>\n",
       "      <th>LAC</th>\n",
       "      <th>CI</th>\n",
       "      <th>Operator</th>\n",
       "      <th>hours</th>\n",
       "    </tr>\n",
       "  </thead>\n",
       "  <tbody>\n",
       "    <tr>\n",
       "      <th>61</th>\n",
       "      <td>9f6dbb4957e34ad65b4061e1ac326afa539752db6a1f57...</td>\n",
       "      <td>2020-01-09 00:00:00</td>\n",
       "      <td>4G</td>\n",
       "      <td>302</td>\n",
       "      <td>220</td>\n",
       "      <td>113122</td>\n",
       "      <td>41</td>\n",
       "      <td>Telus Mobility</td>\n",
       "      <td>0.000000</td>\n",
       "    </tr>\n",
       "    <tr>\n",
       "      <th>52</th>\n",
       "      <td>9f6dbb4957e34ad65b4061e1ac326afa539752db6a1f57...</td>\n",
       "      <td>2020-01-09 00:00:00</td>\n",
       "      <td>4G</td>\n",
       "      <td>302</td>\n",
       "      <td>220</td>\n",
       "      <td>113122</td>\n",
       "      <td>41</td>\n",
       "      <td>Telus Mobility</td>\n",
       "      <td>0.000000</td>\n",
       "    </tr>\n",
       "    <tr>\n",
       "      <th>70</th>\n",
       "      <td>9f6dbb4957e34ad65b4061e1ac326afa539752db6a1f57...</td>\n",
       "      <td>2020-01-09 00:00:00</td>\n",
       "      <td>4G</td>\n",
       "      <td>302</td>\n",
       "      <td>220</td>\n",
       "      <td>113122</td>\n",
       "      <td>41</td>\n",
       "      <td>Telus Mobility</td>\n",
       "      <td>0.000000</td>\n",
       "    </tr>\n",
       "    <tr>\n",
       "      <th>149</th>\n",
       "      <td>9dd48ceccaea12ad1ed02afa45f096bba2409f1f5e04d5...</td>\n",
       "      <td>2020-01-09 00:33:00</td>\n",
       "      <td>Other</td>\n",
       "      <td>302</td>\n",
       "      <td>220</td>\n",
       "      <td>11204</td>\n",
       "      <td>25122</td>\n",
       "      <td>Telus Mobility</td>\n",
       "      <td>0.550000</td>\n",
       "    </tr>\n",
       "    <tr>\n",
       "      <th>148</th>\n",
       "      <td>9dd48ceccaea12ad1ed02afa45f096bba2409f1f5e04d5...</td>\n",
       "      <td>2020-01-09 00:33:00</td>\n",
       "      <td>Other</td>\n",
       "      <td>302</td>\n",
       "      <td>220</td>\n",
       "      <td>11204</td>\n",
       "      <td>25122</td>\n",
       "      <td>Telus Mobility</td>\n",
       "      <td>0.550000</td>\n",
       "    </tr>\n",
       "    <tr>\n",
       "      <th>165</th>\n",
       "      <td>9dd48ceccaea12ad1ed02afa45f096bba2409f1f5e04d5...</td>\n",
       "      <td>2020-01-09 00:34:00</td>\n",
       "      <td>Other</td>\n",
       "      <td>302</td>\n",
       "      <td>220</td>\n",
       "      <td>11204</td>\n",
       "      <td>25122</td>\n",
       "      <td>Telus Mobility</td>\n",
       "      <td>0.566667</td>\n",
       "    </tr>\n",
       "    <tr>\n",
       "      <th>166</th>\n",
       "      <td>9dd48ceccaea12ad1ed02afa45f096bba2409f1f5e04d5...</td>\n",
       "      <td>2020-01-09 00:34:00</td>\n",
       "      <td>Other</td>\n",
       "      <td>302</td>\n",
       "      <td>220</td>\n",
       "      <td>11204</td>\n",
       "      <td>25122</td>\n",
       "      <td>Telus Mobility</td>\n",
       "      <td>0.566667</td>\n",
       "    </tr>\n",
       "    <tr>\n",
       "      <th>171</th>\n",
       "      <td>e41a1559c092dfa12acf39072821ce575665fdc4c2a46c...</td>\n",
       "      <td>2020-01-09 00:37:00</td>\n",
       "      <td>Other</td>\n",
       "      <td>302</td>\n",
       "      <td>220</td>\n",
       "      <td>11204</td>\n",
       "      <td>25122</td>\n",
       "      <td>Telus Mobility</td>\n",
       "      <td>0.616667</td>\n",
       "    </tr>\n",
       "    <tr>\n",
       "      <th>186</th>\n",
       "      <td>d6a5b12c28dc324c1ff61b2540336c0fbe3ac89b1744be...</td>\n",
       "      <td>2020-01-09 00:48:00</td>\n",
       "      <td>Other</td>\n",
       "      <td>302</td>\n",
       "      <td>220</td>\n",
       "      <td>11204</td>\n",
       "      <td>25122</td>\n",
       "      <td>Telus Mobility</td>\n",
       "      <td>0.800000</td>\n",
       "    </tr>\n",
       "    <tr>\n",
       "      <th>155</th>\n",
       "      <td>d6a5b12c28dc324c1ff61b2540336c0fbe3ac89b1744be...</td>\n",
       "      <td>2020-01-09 00:48:00</td>\n",
       "      <td>Other</td>\n",
       "      <td>302</td>\n",
       "      <td>220</td>\n",
       "      <td>11204</td>\n",
       "      <td>25122</td>\n",
       "      <td>Telus Mobility</td>\n",
       "      <td>0.800000</td>\n",
       "    </tr>\n",
       "  </tbody>\n",
       "</table>\n",
       "</div>"
      ],
      "text/plain": [
       "                                               imsi_id            event_ts  \\\n",
       "61   9f6dbb4957e34ad65b4061e1ac326afa539752db6a1f57... 2020-01-09 00:00:00   \n",
       "52   9f6dbb4957e34ad65b4061e1ac326afa539752db6a1f57... 2020-01-09 00:00:00   \n",
       "70   9f6dbb4957e34ad65b4061e1ac326afa539752db6a1f57... 2020-01-09 00:00:00   \n",
       "149  9dd48ceccaea12ad1ed02afa45f096bba2409f1f5e04d5... 2020-01-09 00:33:00   \n",
       "148  9dd48ceccaea12ad1ed02afa45f096bba2409f1f5e04d5... 2020-01-09 00:33:00   \n",
       "165  9dd48ceccaea12ad1ed02afa45f096bba2409f1f5e04d5... 2020-01-09 00:34:00   \n",
       "166  9dd48ceccaea12ad1ed02afa45f096bba2409f1f5e04d5... 2020-01-09 00:34:00   \n",
       "171  e41a1559c092dfa12acf39072821ce575665fdc4c2a46c... 2020-01-09 00:37:00   \n",
       "186  d6a5b12c28dc324c1ff61b2540336c0fbe3ac89b1744be... 2020-01-09 00:48:00   \n",
       "155  d6a5b12c28dc324c1ff61b2540336c0fbe3ac89b1744be... 2020-01-09 00:48:00   \n",
       "\n",
       "    broadband  MCC  MNC     LAC     CI        Operator     hours  \n",
       "61         4G  302  220  113122     41  Telus Mobility  0.000000  \n",
       "52         4G  302  220  113122     41  Telus Mobility  0.000000  \n",
       "70         4G  302  220  113122     41  Telus Mobility  0.000000  \n",
       "149     Other  302  220   11204  25122  Telus Mobility  0.550000  \n",
       "148     Other  302  220   11204  25122  Telus Mobility  0.550000  \n",
       "165     Other  302  220   11204  25122  Telus Mobility  0.566667  \n",
       "166     Other  302  220   11204  25122  Telus Mobility  0.566667  \n",
       "171     Other  302  220   11204  25122  Telus Mobility  0.616667  \n",
       "186     Other  302  220   11204  25122  Telus Mobility  0.800000  \n",
       "155     Other  302  220   11204  25122  Telus Mobility  0.800000  "
      ]
     },
     "execution_count": 68,
     "metadata": {},
     "output_type": "execute_result"
    }
   ],
   "source": [
    "telco.head(10)"
   ]
  },
  {
   "cell_type": "code",
   "execution_count": 90,
   "id": "2c50ac00",
   "metadata": {},
   "outputs": [],
   "source": [
    "output = telco.groupby('imsi_id').agg(\n",
    "    dwell_time = ('hours', 'mean' ),\n",
    "    r_visits = ('imsi_id', 'count')\n",
    "     ).sort_values(by = ['dwell_time'], ascending = True).reset_index()\n",
    "\n"
   ]
  },
  {
   "cell_type": "markdown",
   "id": "293548d1",
   "metadata": {},
   "source": [
    "Next, we present the list of our 33 clients according to their dwell_time and the number of recurrent visits by each one of them:"
   ]
  },
  {
   "cell_type": "code",
   "execution_count": 89,
   "id": "b549943b",
   "metadata": {},
   "outputs": [
    {
     "data": {
      "text/html": [
       "<div>\n",
       "<style scoped>\n",
       "    .dataframe tbody tr th:only-of-type {\n",
       "        vertical-align: middle;\n",
       "    }\n",
       "\n",
       "    .dataframe tbody tr th {\n",
       "        vertical-align: top;\n",
       "    }\n",
       "\n",
       "    .dataframe thead th {\n",
       "        text-align: right;\n",
       "    }\n",
       "</style>\n",
       "<table border=\"1\" class=\"dataframe\">\n",
       "  <thead>\n",
       "    <tr style=\"text-align: right;\">\n",
       "      <th></th>\n",
       "      <th>imsi_id</th>\n",
       "      <th>dwell_time</th>\n",
       "      <th>r_visits</th>\n",
       "    </tr>\n",
       "  </thead>\n",
       "  <tbody>\n",
       "    <tr>\n",
       "      <th>0</th>\n",
       "      <td>9dd48ceccaea12ad1ed02afa45f096bba2409f1f5e04d5...</td>\n",
       "      <td>0.558333</td>\n",
       "      <td>4</td>\n",
       "    </tr>\n",
       "    <tr>\n",
       "      <th>1</th>\n",
       "      <td>d6a5b12c28dc324c1ff61b2540336c0fbe3ac89b1744be...</td>\n",
       "      <td>0.800000</td>\n",
       "      <td>2</td>\n",
       "    </tr>\n",
       "    <tr>\n",
       "      <th>2</th>\n",
       "      <td>9366f7e222a3682413fc4b3480289bf5ee8bee9f5c9354...</td>\n",
       "      <td>1.316667</td>\n",
       "      <td>1</td>\n",
       "    </tr>\n",
       "    <tr>\n",
       "      <th>3</th>\n",
       "      <td>f48b2e8df1f9f912c788b57e6f2c3246e08b74440f033e...</td>\n",
       "      <td>1.966667</td>\n",
       "      <td>6</td>\n",
       "    </tr>\n",
       "    <tr>\n",
       "      <th>4</th>\n",
       "      <td>f70cd60e8a80eebd2422c0db3d8fb5d9b441bb6ef22c71...</td>\n",
       "      <td>10.123333</td>\n",
       "      <td>5</td>\n",
       "    </tr>\n",
       "    <tr>\n",
       "      <th>5</th>\n",
       "      <td>e41a1559c092dfa12acf39072821ce575665fdc4c2a46c...</td>\n",
       "      <td>10.822917</td>\n",
       "      <td>16</td>\n",
       "    </tr>\n",
       "    <tr>\n",
       "      <th>6</th>\n",
       "      <td>10ef0c74bc117442d7af58334e1a7f6d7e6e374a705e1f...</td>\n",
       "      <td>11.524242</td>\n",
       "      <td>11</td>\n",
       "    </tr>\n",
       "    <tr>\n",
       "      <th>7</th>\n",
       "      <td>9f6dbb4957e34ad65b4061e1ac326afa539752db6a1f57...</td>\n",
       "      <td>12.148148</td>\n",
       "      <td>9</td>\n",
       "    </tr>\n",
       "    <tr>\n",
       "      <th>8</th>\n",
       "      <td>c6f43f7ae49f220a883f6b63b26024eff38ce3c2e773a6...</td>\n",
       "      <td>13.783965</td>\n",
       "      <td>132</td>\n",
       "    </tr>\n",
       "    <tr>\n",
       "      <th>9</th>\n",
       "      <td>e2ee0f057e15ceedbb10b6c7ba335487fd20cfb7b1ca55...</td>\n",
       "      <td>13.992857</td>\n",
       "      <td>7</td>\n",
       "    </tr>\n",
       "    <tr>\n",
       "      <th>10</th>\n",
       "      <td>12f577a9e7c23830cfc662a8954126c96a2f966c248457...</td>\n",
       "      <td>14.255556</td>\n",
       "      <td>12</td>\n",
       "    </tr>\n",
       "    <tr>\n",
       "      <th>11</th>\n",
       "      <td>d993bd44520ea984f45182b7398c98a2af4e0da09ef423...</td>\n",
       "      <td>14.733333</td>\n",
       "      <td>1</td>\n",
       "    </tr>\n",
       "    <tr>\n",
       "      <th>12</th>\n",
       "      <td>321b7cf31816a63fb196a208c3eeea20de04cd59dc35d8...</td>\n",
       "      <td>15.870000</td>\n",
       "      <td>5</td>\n",
       "    </tr>\n",
       "    <tr>\n",
       "      <th>13</th>\n",
       "      <td>044aa99b8a013c64e3924cf76dec7c9a25d7315bcaccaf...</td>\n",
       "      <td>15.920833</td>\n",
       "      <td>4</td>\n",
       "    </tr>\n",
       "    <tr>\n",
       "      <th>14</th>\n",
       "      <td>cbc12ecb1aa2a955a6426a3114f1a3230ff618560be98a...</td>\n",
       "      <td>16.233333</td>\n",
       "      <td>5</td>\n",
       "    </tr>\n",
       "    <tr>\n",
       "      <th>15</th>\n",
       "      <td>2112b7c11b6fd3e8b5c78af39566e4834685bdcaf56c6b...</td>\n",
       "      <td>16.600000</td>\n",
       "      <td>4</td>\n",
       "    </tr>\n",
       "    <tr>\n",
       "      <th>16</th>\n",
       "      <td>cfef7cf475779a432e73e64641bc5d2abb58e5eebc15ce...</td>\n",
       "      <td>17.488889</td>\n",
       "      <td>3</td>\n",
       "    </tr>\n",
       "    <tr>\n",
       "      <th>17</th>\n",
       "      <td>7948cc9c2c4ede47301ef73252a41fdf9b8e07817f5604...</td>\n",
       "      <td>17.503604</td>\n",
       "      <td>37</td>\n",
       "    </tr>\n",
       "    <tr>\n",
       "      <th>18</th>\n",
       "      <td>2f65da3d1f0ed00d831a2037868732a262523d6231e9bf...</td>\n",
       "      <td>17.633333</td>\n",
       "      <td>2</td>\n",
       "    </tr>\n",
       "    <tr>\n",
       "      <th>19</th>\n",
       "      <td>16d323326378966732abaafddad4027288389ee110cbd1...</td>\n",
       "      <td>17.683333</td>\n",
       "      <td>3</td>\n",
       "    </tr>\n",
       "    <tr>\n",
       "      <th>20</th>\n",
       "      <td>f85657aee6b4977e8909ea8de56f26d3d7010a40e5d210...</td>\n",
       "      <td>17.773232</td>\n",
       "      <td>33</td>\n",
       "    </tr>\n",
       "    <tr>\n",
       "      <th>21</th>\n",
       "      <td>f043c2b9f621827a588b37bf25f7a28f41ce3ce5928dbb...</td>\n",
       "      <td>18.033333</td>\n",
       "      <td>1</td>\n",
       "    </tr>\n",
       "    <tr>\n",
       "      <th>22</th>\n",
       "      <td>b58217bd1fe520ae4cb6a2228ea1cffa68590965cc5ba8...</td>\n",
       "      <td>18.561538</td>\n",
       "      <td>13</td>\n",
       "    </tr>\n",
       "    <tr>\n",
       "      <th>23</th>\n",
       "      <td>05b5aa3eb6db1abda56d8cd0f15e6f5ce2307d16cc9e05...</td>\n",
       "      <td>19.327778</td>\n",
       "      <td>3</td>\n",
       "    </tr>\n",
       "    <tr>\n",
       "      <th>24</th>\n",
       "      <td>9b03a42cf240abbb766ddbe3e5091bfc1cc33c0bf08409...</td>\n",
       "      <td>19.576316</td>\n",
       "      <td>19</td>\n",
       "    </tr>\n",
       "    <tr>\n",
       "      <th>25</th>\n",
       "      <td>2f627a032a70455a80760c51c0c8cc9282c87f52a25703...</td>\n",
       "      <td>19.905556</td>\n",
       "      <td>18</td>\n",
       "    </tr>\n",
       "    <tr>\n",
       "      <th>26</th>\n",
       "      <td>2acb2650d37de9efe5ef71d02c0f9ac8dba554f6f70370...</td>\n",
       "      <td>19.916667</td>\n",
       "      <td>12</td>\n",
       "    </tr>\n",
       "    <tr>\n",
       "      <th>27</th>\n",
       "      <td>16a2a5883d4b3b6f5d4f688e43887bbf712769c612b9da...</td>\n",
       "      <td>19.983333</td>\n",
       "      <td>1</td>\n",
       "    </tr>\n",
       "    <tr>\n",
       "      <th>28</th>\n",
       "      <td>1581807a0d2e3c44b53791d8601ae83e0e1ac51142d84d...</td>\n",
       "      <td>21.066667</td>\n",
       "      <td>2</td>\n",
       "    </tr>\n",
       "    <tr>\n",
       "      <th>29</th>\n",
       "      <td>bc9e5df525777dbe77e262794de72923365aa37b3c019f...</td>\n",
       "      <td>21.129902</td>\n",
       "      <td>34</td>\n",
       "    </tr>\n",
       "    <tr>\n",
       "      <th>30</th>\n",
       "      <td>85d444651f5123ca9e97d30ff30a40f0a65d0487ac37df...</td>\n",
       "      <td>21.250000</td>\n",
       "      <td>4</td>\n",
       "    </tr>\n",
       "    <tr>\n",
       "      <th>31</th>\n",
       "      <td>450c1b07f639674e3e004251fb86ce273ac21bc1c1754e...</td>\n",
       "      <td>23.471111</td>\n",
       "      <td>15</td>\n",
       "    </tr>\n",
       "    <tr>\n",
       "      <th>32</th>\n",
       "      <td>059e71d6579dadcfa0cef78ee779b671ac254549a2b4bb...</td>\n",
       "      <td>23.843750</td>\n",
       "      <td>8</td>\n",
       "    </tr>\n",
       "  </tbody>\n",
       "</table>\n",
       "</div>"
      ],
      "text/plain": [
       "                                              imsi_id  dwell_time  r_visits\n",
       "0   9dd48ceccaea12ad1ed02afa45f096bba2409f1f5e04d5...    0.558333         4\n",
       "1   d6a5b12c28dc324c1ff61b2540336c0fbe3ac89b1744be...    0.800000         2\n",
       "2   9366f7e222a3682413fc4b3480289bf5ee8bee9f5c9354...    1.316667         1\n",
       "3   f48b2e8df1f9f912c788b57e6f2c3246e08b74440f033e...    1.966667         6\n",
       "4   f70cd60e8a80eebd2422c0db3d8fb5d9b441bb6ef22c71...   10.123333         5\n",
       "5   e41a1559c092dfa12acf39072821ce575665fdc4c2a46c...   10.822917        16\n",
       "6   10ef0c74bc117442d7af58334e1a7f6d7e6e374a705e1f...   11.524242        11\n",
       "7   9f6dbb4957e34ad65b4061e1ac326afa539752db6a1f57...   12.148148         9\n",
       "8   c6f43f7ae49f220a883f6b63b26024eff38ce3c2e773a6...   13.783965       132\n",
       "9   e2ee0f057e15ceedbb10b6c7ba335487fd20cfb7b1ca55...   13.992857         7\n",
       "10  12f577a9e7c23830cfc662a8954126c96a2f966c248457...   14.255556        12\n",
       "11  d993bd44520ea984f45182b7398c98a2af4e0da09ef423...   14.733333         1\n",
       "12  321b7cf31816a63fb196a208c3eeea20de04cd59dc35d8...   15.870000         5\n",
       "13  044aa99b8a013c64e3924cf76dec7c9a25d7315bcaccaf...   15.920833         4\n",
       "14  cbc12ecb1aa2a955a6426a3114f1a3230ff618560be98a...   16.233333         5\n",
       "15  2112b7c11b6fd3e8b5c78af39566e4834685bdcaf56c6b...   16.600000         4\n",
       "16  cfef7cf475779a432e73e64641bc5d2abb58e5eebc15ce...   17.488889         3\n",
       "17  7948cc9c2c4ede47301ef73252a41fdf9b8e07817f5604...   17.503604        37\n",
       "18  2f65da3d1f0ed00d831a2037868732a262523d6231e9bf...   17.633333         2\n",
       "19  16d323326378966732abaafddad4027288389ee110cbd1...   17.683333         3\n",
       "20  f85657aee6b4977e8909ea8de56f26d3d7010a40e5d210...   17.773232        33\n",
       "21  f043c2b9f621827a588b37bf25f7a28f41ce3ce5928dbb...   18.033333         1\n",
       "22  b58217bd1fe520ae4cb6a2228ea1cffa68590965cc5ba8...   18.561538        13\n",
       "23  05b5aa3eb6db1abda56d8cd0f15e6f5ce2307d16cc9e05...   19.327778         3\n",
       "24  9b03a42cf240abbb766ddbe3e5091bfc1cc33c0bf08409...   19.576316        19\n",
       "25  2f627a032a70455a80760c51c0c8cc9282c87f52a25703...   19.905556        18\n",
       "26  2acb2650d37de9efe5ef71d02c0f9ac8dba554f6f70370...   19.916667        12\n",
       "27  16a2a5883d4b3b6f5d4f688e43887bbf712769c612b9da...   19.983333         1\n",
       "28  1581807a0d2e3c44b53791d8601ae83e0e1ac51142d84d...   21.066667         2\n",
       "29  bc9e5df525777dbe77e262794de72923365aa37b3c019f...   21.129902        34\n",
       "30  85d444651f5123ca9e97d30ff30a40f0a65d0487ac37df...   21.250000         4\n",
       "31  450c1b07f639674e3e004251fb86ce273ac21bc1c1754e...   23.471111        15\n",
       "32  059e71d6579dadcfa0cef78ee779b671ac254549a2b4bb...   23.843750         8"
      ]
     },
     "execution_count": 89,
     "metadata": {},
     "output_type": "execute_result"
    }
   ],
   "source": [
    "pd.set_option('display.max_rows', 50)\n",
    "output"
   ]
  },
  {
   "cell_type": "markdown",
   "id": "4e2710a5",
   "metadata": {},
   "source": [
    "**Insight 5:** Our greatest potential client registered on September 1st, 2020 was:"
   ]
  },
  {
   "cell_type": "code",
   "execution_count": 72,
   "id": "5a928fdf",
   "metadata": {},
   "outputs": [
    {
     "data": {
      "text/html": [
       "<div>\n",
       "<style scoped>\n",
       "    .dataframe tbody tr th:only-of-type {\n",
       "        vertical-align: middle;\n",
       "    }\n",
       "\n",
       "    .dataframe tbody tr th {\n",
       "        vertical-align: top;\n",
       "    }\n",
       "\n",
       "    .dataframe thead th {\n",
       "        text-align: right;\n",
       "    }\n",
       "</style>\n",
       "<table border=\"1\" class=\"dataframe\">\n",
       "  <thead>\n",
       "    <tr style=\"text-align: right;\">\n",
       "      <th></th>\n",
       "      <th>imsi_id</th>\n",
       "      <th>dwell_time</th>\n",
       "      <th>r_visits</th>\n",
       "    </tr>\n",
       "  </thead>\n",
       "  <tbody>\n",
       "    <tr>\n",
       "      <th>8</th>\n",
       "      <td>c6f43f7ae49f220a883f6b63b26024eff38ce3c2e773a6...</td>\n",
       "      <td>13.783965</td>\n",
       "      <td>132</td>\n",
       "    </tr>\n",
       "  </tbody>\n",
       "</table>\n",
       "</div>"
      ],
      "text/plain": [
       "                                             imsi_id  dwell_time  r_visits\n",
       "8  c6f43f7ae49f220a883f6b63b26024eff38ce3c2e773a6...   13.783965       132"
      ]
     },
     "execution_count": 72,
     "metadata": {},
     "output_type": "execute_result"
    }
   ],
   "source": [
    "output[output.r_visits == output.r_visits.max()]"
   ]
  },
  {
   "cell_type": "markdown",
   "id": "447167d9",
   "metadata": {},
   "source": [
    "In addition, we can target this client in business hours from 1 PM - 2 PM. "
   ]
  },
  {
   "cell_type": "markdown",
   "id": "2760cc2d",
   "metadata": {},
   "source": [
    "**Insight 6** Our most concurrent currents registered in our Poseidon CTC Mall POI were:"
   ]
  },
  {
   "cell_type": "code",
   "execution_count": 73,
   "id": "fb6fe1cd",
   "metadata": {},
   "outputs": [
    {
     "data": {
      "text/html": [
       "<div>\n",
       "<style scoped>\n",
       "    .dataframe tbody tr th:only-of-type {\n",
       "        vertical-align: middle;\n",
       "    }\n",
       "\n",
       "    .dataframe tbody tr th {\n",
       "        vertical-align: top;\n",
       "    }\n",
       "\n",
       "    .dataframe thead th {\n",
       "        text-align: right;\n",
       "    }\n",
       "</style>\n",
       "<table border=\"1\" class=\"dataframe\">\n",
       "  <thead>\n",
       "    <tr style=\"text-align: right;\">\n",
       "      <th></th>\n",
       "      <th>imsi_id</th>\n",
       "      <th>dwell_time</th>\n",
       "      <th>r_visits</th>\n",
       "    </tr>\n",
       "  </thead>\n",
       "  <tbody>\n",
       "    <tr>\n",
       "      <th>8</th>\n",
       "      <td>c6f43f7ae49f220a883f6b63b26024eff38ce3c2e773a6...</td>\n",
       "      <td>13.783965</td>\n",
       "      <td>132</td>\n",
       "    </tr>\n",
       "    <tr>\n",
       "      <th>17</th>\n",
       "      <td>7948cc9c2c4ede47301ef73252a41fdf9b8e07817f5604...</td>\n",
       "      <td>17.503604</td>\n",
       "      <td>37</td>\n",
       "    </tr>\n",
       "    <tr>\n",
       "      <th>29</th>\n",
       "      <td>bc9e5df525777dbe77e262794de72923365aa37b3c019f...</td>\n",
       "      <td>21.129902</td>\n",
       "      <td>34</td>\n",
       "    </tr>\n",
       "  </tbody>\n",
       "</table>\n",
       "</div>"
      ],
      "text/plain": [
       "                                              imsi_id  dwell_time  r_visits\n",
       "8   c6f43f7ae49f220a883f6b63b26024eff38ce3c2e773a6...   13.783965       132\n",
       "17  7948cc9c2c4ede47301ef73252a41fdf9b8e07817f5604...   17.503604        37\n",
       "29  bc9e5df525777dbe77e262794de72923365aa37b3c019f...   21.129902        34"
      ]
     },
     "execution_count": 73,
     "metadata": {},
     "output_type": "execute_result"
    }
   ],
   "source": [
    "output.nlargest(3, 'r_visits')"
   ]
  },
  {
   "cell_type": "markdown",
   "id": "6100bb00",
   "metadata": {},
   "source": [
    "**Displaying the distribution of dwell time by the number of recurrent visits:**"
   ]
  },
  {
   "cell_type": "code",
   "execution_count": 74,
   "id": "ebee20c3",
   "metadata": {},
   "outputs": [],
   "source": [
    "output_bin = copy.deepcopy(output)\n",
    "\n",
    "output_bin['points_bin'] = pd.qcut(output_bin['dwell_time'], q=8)\n",
    "\n",
    "output_bin = output_bin.groupby('points_bin').agg(\n",
    "    n_visits = ('r_visits', 'sum')\n",
    "     ).reset_index()"
   ]
  },
  {
   "cell_type": "code",
   "execution_count": 75,
   "id": "a13751fd",
   "metadata": {},
   "outputs": [
    {
     "data": {
      "text/plain": [
       "Text(0.5, 1.0, 'Distribution of dwell time (Poseidon CTC Mall)')"
      ]
     },
     "execution_count": 75,
     "metadata": {},
     "output_type": "execute_result"
    },
    {
     "data": {
      "image/png": "[encoded data removed]",
      "text/plain": [
       "<Figure size 1080x360 with 1 Axes>"
      ]
     },
     "metadata": {
      "needs_background": "light"
     },
     "output_type": "display_data"
    }
   ],
   "source": [
    "plt.figure(figsize = (15, 5))\n",
    "sns.barplot(x = output_bin.points_bin, y = output_bin.n_visits, color = 'blue')\n",
    "# Labeling of the plot\n",
    "plt.xlabel('dwell time (hrs)') \n",
    "plt.ylabel('Recurrent visits')\n",
    "plt.title('Distribution of dwell time (Poseidon CTC Mall)')"
   ]
  },
  {
   "cell_type": "markdown",
   "id": "0b4c53bd",
   "metadata": {},
   "source": [
    "**Insight 7 (a):** Busiest hours at Poseidon CTC Mall on Sept 1st 2020 occurred between 10 hrs and 13 hrs, with a number of recurrent visits > 160. Particularly, this is the segment that our marketing work force should focus on.   "
   ]
  },
  {
   "cell_type": "markdown",
   "id": "faa47961",
   "metadata": {},
   "source": [
    "**Displaying the relationship between dwell time and the number of recurrent visits**"
   ]
  },
  {
   "cell_type": "code",
   "execution_count": 77,
   "id": "35be835e",
   "metadata": {},
   "outputs": [
    {
     "data": {
      "text/plain": [
       "Text(0.5, 1.0, 'Dwell_time vs Recurrent visits (Poseidon CTC Mall)')"
      ]
     },
     "execution_count": 77,
     "metadata": {},
     "output_type": "execute_result"
    },
    {
     "data": {
      "image/png": "[encoded data removed]",
      "text/plain": [
       "<Figure size 1080x360 with 1 Axes>"
      ]
     },
     "metadata": {
      "needs_background": "light"
     },
     "output_type": "display_data"
    }
   ],
   "source": [
    "plt.figure(figsize = (15, 5))\n",
    "sns.scatterplot(x = output.dwell_time, y = output.r_visits)\n",
    "# Labeling of the plot\n",
    "plt.xlabel('dwell time (hrs)') \n",
    "plt.ylabel('No. Visits')\n",
    "plt.title('Dwell_time vs Recurrent visits (Poseidon CTC Mall)')"
   ]
  },
  {
   "cell_type": "code",
   "execution_count": 79,
   "id": "abce0cda",
   "metadata": {},
   "outputs": [
    {
     "data": {
      "text/html": [
       "<div>\n",
       "<style scoped>\n",
       "    .dataframe tbody tr th:only-of-type {\n",
       "        vertical-align: middle;\n",
       "    }\n",
       "\n",
       "    .dataframe tbody tr th {\n",
       "        vertical-align: top;\n",
       "    }\n",
       "\n",
       "    .dataframe thead th {\n",
       "        text-align: right;\n",
       "    }\n",
       "</style>\n",
       "<table border=\"1\" class=\"dataframe\">\n",
       "  <thead>\n",
       "    <tr style=\"text-align: right;\">\n",
       "      <th></th>\n",
       "      <th>imsi_id</th>\n",
       "      <th>dwell_time</th>\n",
       "      <th>r_visits</th>\n",
       "    </tr>\n",
       "  </thead>\n",
       "  <tbody>\n",
       "    <tr>\n",
       "      <th>8</th>\n",
       "      <td>c6f43f7ae49f220a883f6b63b26024eff38ce3c2e773a6...</td>\n",
       "      <td>13.783965</td>\n",
       "      <td>132</td>\n",
       "    </tr>\n",
       "  </tbody>\n",
       "</table>\n",
       "</div>"
      ],
      "text/plain": [
       "                                             imsi_id  dwell_time  r_visits\n",
       "8  c6f43f7ae49f220a883f6b63b26024eff38ce3c2e773a6...   13.783965       132"
      ]
     },
     "execution_count": 79,
     "metadata": {},
     "output_type": "execute_result"
    }
   ],
   "source": [
    "output[output.r_visits == output.r_visits.max()]"
   ]
  },
  {
   "cell_type": "markdown",
   "id": "8f61883c",
   "metadata": {},
   "source": [
    "**Insight 7 (b):** We can see a potential outlier which corresponds to the previous client stated before. Apart from that, the number of recurrent visits seems to stay below 40. There are interesting points during the very early mornings. Probably these are people attenting on security? Probably there is pretty nightlife in the place?  Considering if there are any cinema theater located at the mall, most probably these are late schedules due to movie premieres.\n",
    "\n"
   ]
  },
  {
   "cell_type": "markdown",
   "id": "a2c19e5b",
   "metadata": {},
   "source": [
    "## Bonus problem statement (Task 2) "
   ]
  },
  {
   "cell_type": "markdown",
   "id": "74732582",
   "metadata": {},
   "source": [
    "**1.Selecting the Data**"
   ]
  },
  {
   "cell_type": "code",
   "execution_count": 952,
   "id": "0b76d2af",
   "metadata": {},
   "outputs": [],
   "source": [
    "output_2 = output"
   ]
  },
  {
   "cell_type": "code",
   "execution_count": 953,
   "id": "1cd9bfe0",
   "metadata": {},
   "outputs": [
    {
     "data": {
      "text/plain": [
       "array([[  0.55833333,   4.        ],\n",
       "       [  0.8       ,   2.        ],\n",
       "       [  1.31666667,   1.        ],\n",
       "       [  1.96666667,   6.        ],\n",
       "       [ 10.12333333,   5.        ],\n",
       "       [ 10.82291667,  16.        ],\n",
       "       [ 11.52424242,  11.        ],\n",
       "       [ 12.14814815,   9.        ],\n",
       "       [ 13.78396465, 132.        ],\n",
       "       [ 13.99285714,   7.        ],\n",
       "       [ 14.25555556,  12.        ],\n",
       "       [ 14.73333333,   1.        ],\n",
       "       [ 15.87      ,   5.        ],\n",
       "       [ 15.92083333,   4.        ],\n",
       "       [ 16.23333333,   5.        ],\n",
       "       [ 16.6       ,   4.        ],\n",
       "       [ 17.48888889,   3.        ],\n",
       "       [ 17.5036036 ,  37.        ],\n",
       "       [ 17.63333333,   2.        ],\n",
       "       [ 17.68333333,   3.        ],\n",
       "       [ 17.77323232,  33.        ],\n",
       "       [ 18.03333333,   1.        ],\n",
       "       [ 18.56153846,  13.        ],\n",
       "       [ 19.32777778,   3.        ],\n",
       "       [ 19.57631579,  19.        ],\n",
       "       [ 19.90555556,  18.        ],\n",
       "       [ 19.91666667,  12.        ],\n",
       "       [ 19.98333333,   1.        ],\n",
       "       [ 21.06666667,   2.        ],\n",
       "       [ 21.12990196,  34.        ],\n",
       "       [ 21.25      ,   4.        ],\n",
       "       [ 23.47111111,  15.        ],\n",
       "       [ 23.84375   ,   8.        ]])"
      ]
     },
     "execution_count": 953,
     "metadata": {},
     "output_type": "execute_result"
    }
   ],
   "source": [
    "output_2.iloc[:, [1,2]].values"
   ]
  },
  {
   "cell_type": "code",
   "execution_count": 954,
   "id": "3e42cefe",
   "metadata": {},
   "outputs": [],
   "source": [
    "X = output_2.iloc[:, [1,2]].values"
   ]
  },
  {
   "cell_type": "markdown",
   "id": "0232efba",
   "metadata": {},
   "source": [
    "**2. Model Building**"
   ]
  },
  {
   "cell_type": "code",
   "execution_count": 955,
   "id": "1a5fe175",
   "metadata": {},
   "outputs": [
    {
     "name": "stdout",
     "output_type": "stream",
     "text": [
      "Initialization complete\n",
      "Iteration 0, inertia 30079.745601678347.\n",
      "Iteration 1, inertia 18805.701265039464.\n",
      "Converged at iteration 1: strict convergence.\n",
      "Initialization complete\n",
      "Iteration 0, inertia 23963.541296136947.\n",
      "Iteration 1, inertia 18805.70126503946.\n",
      "Converged at iteration 1: strict convergence.\n",
      "Initialization complete\n",
      "Iteration 0, inertia 37830.66518987676.\n",
      "Iteration 1, inertia 18805.701265039464.\n",
      "Converged at iteration 1: strict convergence.\n",
      "Initialization complete\n",
      "Iteration 0, inertia 22353.907160292987.\n",
      "Iteration 1, inertia 18805.701265039464.\n",
      "Converged at iteration 1: strict convergence.\n",
      "Initialization complete\n",
      "Iteration 0, inertia 19157.67811582268.\n",
      "Iteration 1, inertia 18805.701265039464.\n",
      "Converged at iteration 1: strict convergence.\n",
      "Initialization complete\n",
      "Iteration 0, inertia 22071.56514302786.\n",
      "Iteration 1, inertia 18805.701265039464.\n",
      "Converged at iteration 1: strict convergence.\n",
      "Initialization complete\n",
      "Iteration 0, inertia 20086.093565013973.\n",
      "Iteration 1, inertia 18805.701265039464.\n",
      "Converged at iteration 1: strict convergence.\n",
      "Initialization complete\n",
      "Iteration 0, inertia 22071.565143027867.\n",
      "Iteration 1, inertia 18805.701265039464.\n",
      "Converged at iteration 1: strict convergence.\n",
      "Initialization complete\n",
      "Iteration 0, inertia 22071.56514302786.\n",
      "Iteration 1, inertia 18805.70126503946.\n",
      "Converged at iteration 1: strict convergence.\n",
      "Initialization complete\n",
      "Iteration 0, inertia 20301.876671155653.\n",
      "Iteration 1, inertia 18805.701265039464.\n",
      "Converged at iteration 1: strict convergence.\n",
      "Initialization complete\n",
      "Iteration 0, inertia 12763.312082761273\n",
      "Iteration 1, inertia 4222.113410335707\n",
      "Converged at iteration 1: strict convergence.\n",
      "Initialization complete\n",
      "Iteration 0, inertia 5697.702084136857\n",
      "Iteration 1, inertia 4222.113410335706\n",
      "Converged at iteration 1: strict convergence.\n",
      "Initialization complete\n",
      "Iteration 0, inertia 6594.365861668658\n",
      "Iteration 1, inertia 4222.113410335707\n",
      "Converged at iteration 1: strict convergence.\n",
      "Initialization complete\n",
      "Iteration 0, inertia 6594.365861668657\n",
      "Iteration 1, inertia 4222.113410335706\n",
      "Converged at iteration 1: strict convergence.\n",
      "Initialization complete\n",
      "Iteration 0, inertia 5697.702084136856\n",
      "Iteration 1, inertia 4222.113410335707\n",
      "Converged at iteration 1: strict convergence.\n",
      "Initialization complete\n",
      "Iteration 0, inertia 5669.802808894848\n",
      "Iteration 1, inertia 4222.113410335706\n",
      "Converged at iteration 1: strict convergence.\n",
      "Initialization complete\n",
      "Iteration 0, inertia 12763.312082761273\n",
      "Iteration 1, inertia 4222.113410335706\n",
      "Converged at iteration 1: strict convergence.\n",
      "Initialization complete\n",
      "Iteration 0, inertia 4553.486364415004\n",
      "Iteration 1, inertia 4222.113410335706\n",
      "Converged at iteration 1: strict convergence.\n",
      "Initialization complete\n",
      "Iteration 0, inertia 6698.018557350252\n",
      "Iteration 1, inertia 4222.113410335707\n",
      "Converged at iteration 1: strict convergence.\n",
      "Initialization complete\n",
      "Iteration 0, inertia 4843.4601403772995\n",
      "Iteration 1, inertia 4222.113410335706\n",
      "Converged at iteration 1: strict convergence.\n",
      "Initialization complete\n",
      "Iteration 0, inertia 3367.2083735302663\n",
      "Iteration 1, inertia 3114.601777980962\n",
      "Converged at iteration 1: strict convergence.\n",
      "Initialization complete\n",
      "Iteration 0, inertia 2106.835873691897\n",
      "Iteration 1, inertia 2065.005163292353\n",
      "Converged at iteration 1: strict convergence.\n",
      "Initialization complete\n",
      "Iteration 0, inertia 4636.285871641604\n",
      "Iteration 1, inertia 3156.3537513408064\n",
      "Iteration 2, inertia 2517.505128321086\n",
      "Iteration 3, inertia 2170.5695767160496\n",
      "Iteration 4, inertia 2109.067304865818\n",
      "Iteration 5, inertia 2076.2145546913707\n",
      "Iteration 6, inertia 2055.6298243179895\n",
      "Iteration 7, inertia 2028.2566550791257\n",
      "Converged at iteration 7: strict convergence.\n",
      "Initialization complete\n",
      "Iteration 0, inertia 3438.125558627099\n",
      "Iteration 1, inertia 3027.634051314595\n",
      "Iteration 2, inertia 2682.667123918898\n",
      "Iteration 3, inertia 2169.683756599373\n",
      "Iteration 4, inertia 2109.067304865818\n",
      "Iteration 5, inertia 2076.2145546913707\n",
      "Iteration 6, inertia 2055.6298243179895\n",
      "Iteration 7, inertia 2028.2566550791257\n",
      "Converged at iteration 7: strict convergence.\n",
      "Initialization complete\n",
      "Iteration 0, inertia 2983.8539415825867\n",
      "Iteration 1, inertia 2292.8368012416954\n",
      "Iteration 2, inertia 2076.2145546913707\n",
      "Iteration 3, inertia 2055.62982431799\n",
      "Iteration 4, inertia 2028.2566550791257\n",
      "Converged at iteration 4: strict convergence.\n",
      "Initialization complete\n",
      "Iteration 0, inertia 3277.650873777803\n",
      "Iteration 1, inertia 3061.930085142665\n",
      "Iteration 2, inertia 3015.8182553016804\n",
      "Iteration 3, inertia 2482.0930208270283\n",
      "Iteration 4, inertia 2169.6837565993724\n",
      "Iteration 5, inertia 2109.0673048658177\n",
      "Iteration 6, inertia 2076.2145546913707\n",
      "Iteration 7, inertia 2055.62982431799\n",
      "Iteration 8, inertia 2028.2566550791257\n",
      "Converged at iteration 8: strict convergence.\n",
      "Initialization complete\n",
      "Iteration 0, inertia 2455.83191845416\n",
      "Iteration 1, inertia 2065.0051632923523\n",
      "Converged at iteration 1: strict convergence.\n",
      "Initialization complete\n",
      "Iteration 0, inertia 2198.725357152073\n",
      "Iteration 1, inertia 2065.005163292353\n",
      "Converged at iteration 1: strict convergence.\n",
      "Initialization complete\n",
      "Iteration 0, inertia 2805.6546748766223\n",
      "Iteration 1, inertia 2034.9935530604168\n",
      "Converged at iteration 1: strict convergence.\n",
      "Initialization complete\n",
      "Iteration 0, inertia 2106.835873691897\n",
      "Iteration 1, inertia 2065.005163292353\n",
      "Converged at iteration 1: strict convergence.\n",
      "Initialization complete\n",
      "Iteration 0, inertia 1843.5419889421805\n",
      "Iteration 1, inertia 1129.867260025194\n",
      "Converged at iteration 1: strict convergence.\n",
      "Initialization complete\n",
      "Iteration 0, inertia 1592.6801639095208\n",
      "Iteration 1, inertia 1309.7164787847416\n",
      "Iteration 2, inertia 1220.3350579593189\n",
      "Iteration 3, inertia 1202.5835059155622\n",
      "Converged at iteration 3: strict convergence.\n",
      "Initialization complete\n",
      "Iteration 0, inertia 1857.3133554316762\n",
      "Iteration 1, inertia 1120.902715707794\n",
      "Converged at iteration 1: strict convergence.\n",
      "Initialization complete\n",
      "Iteration 0, inertia 1900.2172519911564\n",
      "Iteration 1, inertia 1120.9027157077942\n",
      "Converged at iteration 1: strict convergence.\n",
      "Initialization complete\n",
      "Iteration 0, inertia 1482.5534897413513\n",
      "Iteration 1, inertia 1305.3474582596493\n",
      "Converged at iteration 1: strict convergence.\n",
      "Initialization complete\n",
      "Iteration 0, inertia 1566.8784784497504\n",
      "Iteration 1, inertia 1331.1654295856963\n",
      "Iteration 2, inertia 1305.3474582596496\n",
      "Converged at iteration 2: strict convergence.\n",
      "Initialization complete\n",
      "Iteration 0, inertia 1415.174901647046\n",
      "Iteration 1, inertia 1157.4399035752872\n",
      "Converged at iteration 1: strict convergence.\n",
      "Initialization complete\n",
      "Iteration 0, inertia 1617.8787226701681\n",
      "Iteration 1, inertia 1448.1533178941452\n",
      "Converged at iteration 1: strict convergence.\n",
      "Initialization complete\n",
      "Iteration 0, inertia 2061.5739257021855\n",
      "Iteration 1, inertia 1209.1780169341398\n",
      "Converged at iteration 1: strict convergence.\n",
      "Initialization complete\n",
      "Iteration 0, inertia 1700.9538925017346\n",
      "Iteration 1, inertia 1386.1219483246825\n",
      "Iteration 2, inertia 1294.1281595517785\n",
      "Iteration 3, inertia 1241.3002115577262\n",
      "Iteration 4, inertia 1218.393715730514\n",
      "Iteration 5, inertia 1202.5835059155625\n",
      "Converged at iteration 5: strict convergence.\n",
      "Initialization complete\n",
      "Iteration 0, inertia 648.1153971111719\n",
      "Iteration 1, inertia 537.1621003400861\n",
      "Iteration 2, inertia 525.7290754747079\n",
      "Converged at iteration 2: strict convergence.\n",
      "Initialization complete\n",
      "Iteration 0, inertia 1277.5152043621545\n",
      "Iteration 1, inertia 680.8403078647739\n",
      "Iteration 2, inertia 629.1880506935759\n",
      "Iteration 3, inertia 597.4802141354456\n",
      "Iteration 4, inertia 539.3396440975671\n",
      "Iteration 5, inertia 517.2884676364822\n",
      "Converged at iteration 5: strict convergence.\n",
      "Initialization complete\n",
      "Iteration 0, inertia 1005.6867916628836\n",
      "Iteration 1, inertia 698.1046884611598\n",
      "Iteration 2, inertia 599.4507669852851\n",
      "Iteration 3, inertia 580.5837820019565\n",
      "Iteration 4, inertia 539.3396440975671\n",
      "Iteration 5, inertia 517.2884676364822\n",
      "Converged at iteration 5: strict convergence.\n",
      "Initialization complete\n",
      "Iteration 0, inertia 845.9200143538723\n",
      "Iteration 1, inertia 546.7733872074498\n",
      "Iteration 2, inertia 510.4187776042549\n",
      "Converged at iteration 2: strict convergence.\n",
      "Initialization complete\n",
      "Iteration 0, inertia 963.0270652062038\n",
      "Iteration 1, inertia 597.3645629174006\n",
      "Iteration 2, inertia 552.2669098279098\n",
      "Iteration 3, inertia 527.0972510647049\n",
      "Converged at iteration 3: strict convergence.\n",
      "Initialization complete\n",
      "Iteration 0, inertia 901.461639353872\n",
      "Iteration 1, inertia 546.7733872074498\n",
      "Iteration 2, inertia 510.41877760425496\n",
      "Converged at iteration 2: strict convergence.\n",
      "Initialization complete\n",
      "Iteration 0, inertia 561.2056300424005\n",
      "Iteration 1, inertia 522.3847751187024\n",
      "Iteration 2, inertia 510.41877760425496\n",
      "Converged at iteration 2: strict convergence.\n",
      "Initialization complete\n",
      "Iteration 0, inertia 915.8018789533736\n",
      "Iteration 1, inertia 546.7733872074498\n",
      "Iteration 2, inertia 510.41877760425496\n",
      "Converged at iteration 2: strict convergence.\n",
      "Initialization complete\n",
      "Iteration 0, inertia 711.0975392067306\n",
      "Iteration 1, inertia 522.3847751187025\n",
      "Iteration 2, inertia 510.4187776042549\n",
      "Converged at iteration 2: strict convergence.\n",
      "Initialization complete\n",
      "Iteration 0, inertia 639.0543540165351\n",
      "Iteration 1, inertia 537.1621003400861\n",
      "Iteration 2, inertia 525.7290754747079\n",
      "Converged at iteration 2: strict convergence.\n",
      "Initialization complete\n",
      "Iteration 0, inertia 476.2443094109775\n",
      "Iteration 1, inertia 305.4512442082232\n",
      "Converged at iteration 1: strict convergence.\n",
      "Initialization complete\n",
      "Iteration 0, inertia 545.1293060336468\n",
      "Iteration 1, inertia 312.2361716096957\n",
      "Iteration 2, inertia 306.7580124449414\n",
      "Converged at iteration 2: strict convergence.\n",
      "Initialization complete\n",
      "Iteration 0, inertia 450.11941478483624\n",
      "Iteration 1, inertia 371.25146932287197\n",
      "Iteration 2, inertia 315.6318486261001\n",
      "Iteration 3, inertia 306.7580124449414\n",
      "Converged at iteration 3: strict convergence.\n",
      "Initialization complete\n",
      "Iteration 0, inertia 437.3813717106833\n",
      "Iteration 1, inertia 354.67313867714694\n",
      "Iteration 2, inertia 306.7580124449414\n",
      "Converged at iteration 2: strict convergence.\n",
      "Initialization complete\n",
      "Iteration 0, inertia 483.96926552932047\n",
      "Iteration 1, inertia 360.83374491274463\n",
      "Iteration 2, inertia 310.9491377773325\n",
      "Iteration 3, inertia 305.4512442082232\n",
      "Converged at iteration 3: strict convergence.\n",
      "Initialization complete\n",
      "Iteration 0, inertia 544.6388108996249\n",
      "Iteration 1, inertia 354.67313867714694\n",
      "Iteration 2, inertia 306.7580124449414\n",
      "Converged at iteration 2: strict convergence.\n",
      "Initialization complete\n",
      "Iteration 0, inertia 448.9971337617861\n",
      "Iteration 1, inertia 306.7580124449414\n",
      "Converged at iteration 1: strict convergence.\n",
      "Initialization complete\n",
      "Iteration 0, inertia 408.6881690574213\n",
      "Iteration 1, inertia 306.7580124449414\n",
      "Converged at iteration 1: strict convergence.\n",
      "Initialization complete\n",
      "Iteration 0, inertia 548.0569280821813\n",
      "Iteration 1, inertia 404.6820345169025\n",
      "Iteration 2, inertia 383.55583421524636\n",
      "Iteration 3, inertia 373.74828062533174\n",
      "Converged at iteration 3: strict convergence.\n",
      "Initialization complete\n",
      "Iteration 0, inertia 520.4707242606468\n",
      "Iteration 1, inertia 346.16102312133677\n",
      "Iteration 2, inertia 336.1378259792391\n",
      "Iteration 3, inertia 311.73039202918505\n",
      "Iteration 4, inertia 306.7580124449414\n",
      "Converged at iteration 4: strict convergence.\n",
      "Initialization complete\n",
      "Iteration 0, inertia 392.23674605815097\n",
      "Iteration 1, inertia 245.23127252985256\n",
      "Converged at iteration 1: strict convergence.\n",
      "Initialization complete\n",
      "Iteration 0, inertia 356.24475748855554\n",
      "Iteration 1, inertia 249.271331651863\n",
      "Converged at iteration 1: strict convergence.\n",
      "Initialization complete\n",
      "Iteration 0, inertia 316.3870132657365\n",
      "Iteration 1, inertia 247.62047291265964\n",
      "Converged at iteration 1: strict convergence.\n",
      "Initialization complete\n",
      "Iteration 0, inertia 418.3191971643124\n",
      "Iteration 1, inertia 295.96942479387894\n",
      "Iteration 2, inertia 271.40446646339336\n",
      "Converged at iteration 2: strict convergence.\n",
      "Initialization complete\n",
      "Iteration 0, inertia 480.36807335490926\n",
      "Iteration 1, inertia 424.0293472872686\n",
      "Iteration 2, inertia 379.93834098264784\n",
      "Iteration 3, inertia 362.9741499246153\n",
      "Converged at iteration 3: strict convergence.\n",
      "Initialization complete\n",
      "Iteration 0, inertia 340.95485103665084\n",
      "Iteration 1, inertia 245.23127252985262\n",
      "Converged at iteration 1: strict convergence.\n",
      "Initialization complete\n",
      "Iteration 0, inertia 379.82253772879005\n",
      "Iteration 1, inertia 254.66561111937742\n",
      "Iteration 2, inertia 247.62047291265966\n",
      "Converged at iteration 2: strict convergence.\n",
      "Initialization complete\n",
      "Iteration 0, inertia 368.4170939756576\n",
      "Iteration 1, inertia 244.72330845460215\n",
      "Iteration 2, inertia 241.56680314641466\n",
      "Iteration 3, inertia 239.92130495506495\n",
      "Converged at iteration 3: strict convergence.\n",
      "Initialization complete\n",
      "Iteration 0, inertia 329.45070593469427\n",
      "Iteration 1, inertia 263.14199578164846\n",
      "Iteration 2, inertia 245.21821162678964\n",
      "Converged at iteration 2: strict convergence.\n",
      "Initialization complete\n",
      "Iteration 0, inertia 363.3812848917089\n",
      "Iteration 1, inertia 245.31224645389062\n",
      "Iteration 2, inertia 243.59651475899076\n",
      "Converged at iteration 2: strict convergence.\n",
      "Initialization complete\n",
      "Iteration 0, inertia 265.0589619504393\n",
      "Iteration 1, inertia 197.7208266704529\n",
      "Iteration 2, inertia 193.0979759469209\n",
      "Iteration 3, inertia 187.40050123428915\n",
      "Converged at iteration 3: strict convergence.\n",
      "Initialization complete\n",
      "Iteration 0, inertia 300.1684984446515\n",
      "Iteration 1, inertia 194.5000821340018\n",
      "Iteration 2, inertia 187.4005012342891\n",
      "Converged at iteration 2: strict convergence.\n",
      "Initialization complete\n",
      "Iteration 0, inertia 248.19255641080053\n",
      "Iteration 1, inertia 187.40050123428912\n",
      "Converged at iteration 1: strict convergence.\n",
      "Initialization complete\n",
      "Iteration 0, inertia 341.15067193573327\n",
      "Iteration 1, inertia 203.10338363021657\n",
      "Iteration 2, inertia 198.5415898808514\n",
      "Converged at iteration 2: strict convergence.\n",
      "Initialization complete\n",
      "Iteration 0, inertia 292.3047209007291\n",
      "Iteration 1, inertia 206.59178240072788\n",
      "Iteration 2, inertia 187.38744033122614\n",
      "Converged at iteration 2: strict convergence.\n",
      "Initialization complete\n",
      "Iteration 0, inertia 264.6909169282705\n",
      "Iteration 1, inertia 199.93534536070237\n",
      "Converged at iteration 1: strict convergence.\n",
      "Initialization complete\n",
      "Iteration 0, inertia 259.7150900820072\n",
      "Iteration 1, inertia 210.3290918287559\n",
      "Converged at iteration 1: strict convergence.\n",
      "Initialization complete\n",
      "Iteration 0, inertia 267.34386262654084\n",
      "Iteration 1, inertia 207.56773888849358\n",
      "Iteration 2, inertia 191.19912857139798\n",
      "Converged at iteration 2: strict convergence.\n",
      "Initialization complete\n",
      "Iteration 0, inertia 307.84460634407355\n",
      "Iteration 1, inertia 217.84606861249821\n",
      "Iteration 2, inertia 199.92228445763945\n",
      "Converged at iteration 2: strict convergence.\n",
      "Initialization complete\n"
     ]
    },
    {
     "name": "stdout",
     "output_type": "stream",
     "text": [
      "Iteration 0, inertia 281.28031388173287\n",
      "Iteration 1, inertia 225.51590732756748\n",
      "Iteration 2, inertia 208.77028126551687\n",
      "Iteration 3, inertia 207.73425193156203\n",
      "Converged at iteration 3: strict convergence.\n",
      "Initialization complete\n",
      "Iteration 0, inertia 236.04479528377266\n",
      "Iteration 1, inertia 185.42914264267515\n",
      "Iteration 2, inertia 180.80629191914315\n",
      "Iteration 3, inertia 175.10881720651136\n",
      "Converged at iteration 3: strict convergence.\n",
      "Initialization complete\n",
      "Iteration 0, inertia 234.50397886469938\n",
      "Iteration 1, inertia 162.73641819574038\n",
      "Iteration 2, inertia 158.4160466847782\n",
      "Converged at iteration 2: strict convergence.\n",
      "Initialization complete\n",
      "Iteration 0, inertia 211.69761552568002\n",
      "Iteration 1, inertia 188.985293277369\n",
      "Converged at iteration 1: strict convergence.\n",
      "Initialization complete\n",
      "Iteration 0, inertia 233.1117168882187\n",
      "Iteration 1, inertia 172.7096733404726\n",
      "Iteration 2, inertia 167.7028476809915\n",
      "Iteration 3, inertia 162.60856420573796\n",
      "Converged at iteration 3: strict convergence.\n",
      "Initialization complete\n",
      "Iteration 0, inertia 202.02310380267102\n",
      "Iteration 1, inertia 159.8698712651124\n",
      "Converged at iteration 1: strict convergence.\n",
      "Initialization complete\n",
      "Iteration 0, inertia 220.24939875264926\n",
      "Iteration 1, inertia 162.43832476241178\n",
      "Converged at iteration 1: strict convergence.\n",
      "Initialization complete\n",
      "Iteration 0, inertia 245.56912291000296\n",
      "Iteration 1, inertia 196.18113522106705\n",
      "Iteration 2, inertia 194.4654035261672\n",
      "Converged at iteration 2: strict convergence.\n",
      "Initialization complete\n",
      "Iteration 0, inertia 252.76994276382663\n",
      "Iteration 1, inertia 180.47069029604882\n",
      "Iteration 2, inertia 161.6324606281525\n",
      "Iteration 3, inertia 160.7178921765152\n",
      "Converged at iteration 3: strict convergence.\n",
      "Initialization complete\n",
      "Iteration 0, inertia 248.62832570705308\n",
      "Iteration 1, inertia 158.00447829700138\n",
      "Converged at iteration 1: strict convergence.\n",
      "Initialization complete\n",
      "Iteration 0, inertia 241.49809523944288\n",
      "Iteration 1, inertia 180.77082066191798\n",
      "Iteration 2, inertia 176.45044915095582\n",
      "Converged at iteration 2: strict convergence.\n",
      "Initialization complete\n",
      "Iteration 0, inertia 204.6228117768282\n",
      "Iteration 1, inertia 156.44468809316416\n",
      "Iteration 2, inertia 151.8218373696322\n",
      "Iteration 3, inertia 146.1243626570004\n",
      "Converged at iteration 3: strict convergence.\n",
      "Initialization complete\n",
      "Iteration 0, inertia 197.4124993763159\n",
      "Iteration 1, inertia 150.83062722802686\n",
      "Converged at iteration 1: strict convergence.\n",
      "Initialization complete\n",
      "Iteration 0, inertia 212.73672765761893\n",
      "Iteration 1, inertia 141.2115545716717\n",
      "Converged at iteration 1: strict convergence.\n",
      "Initialization complete\n",
      "Iteration 0, inertia 228.78163480047618\n",
      "Iteration 1, inertia 182.89239326762228\n",
      "Converged at iteration 1: strict convergence.\n",
      "Initialization complete\n",
      "Iteration 0, inertia 203.37297019535114\n",
      "Iteration 1, inertia 157.10728689821678\n",
      "Converged at iteration 1: strict convergence.\n",
      "Initialization complete\n",
      "Iteration 0, inertia 190.06978295587055\n",
      "Iteration 1, inertia 148.48686960980436\n",
      "Iteration 2, inertia 141.1972182957272\n",
      "Converged at iteration 2: strict convergence.\n",
      "Initialization complete\n",
      "Iteration 0, inertia 191.6452873659372\n",
      "Iteration 1, inertia 136.06403888710412\n",
      "Converged at iteration 1: strict convergence.\n",
      "Initialization complete\n",
      "Iteration 0, inertia 187.49318774061433\n",
      "Iteration 1, inertia 142.0403332636121\n",
      "Converged at iteration 1: strict convergence.\n",
      "Initialization complete\n",
      "Iteration 0, inertia 180.2756320187356\n",
      "Iteration 1, inertia 160.00083872785808\n",
      "Converged at iteration 1: strict convergence.\n",
      "Initialization complete\n",
      "Iteration 0, inertia 250.47218580775393\n",
      "Iteration 1, inertia 146.46654057831998\n",
      "Iteration 2, inertia 141.57752324710856\n",
      "Converged at iteration 2: strict convergence.\n"
     ]
    }
   ],
   "source": [
    "# By applying K-Means algorithm, we are going to find the best cluster number \n",
    "# The idea, is to reduce WCSS (Within - Cluster - Sum of Squares)\n",
    "from sklearn.cluster import KMeans\n",
    "wcss = []\n",
    "\n",
    "# Getting the maximun numbers of clusters (to begin with, we set 10 by default)\n",
    "\n",
    "# According to the official documentation of scikit learn, we use:\n",
    "\n",
    "#‘k-means++’ : selects initial cluster centers for k-mean clustering in a smart way to speed up \n",
    "#convergence.\n",
    "\n",
    "# random_state = 123, just be sure a fixed randomness\n",
    "\n",
    "# Inertia tell us calculates the sum of distances of all the points within a cluster from the centroid of that\n",
    "# cluster\n",
    "\n",
    "# by default, we chose to select an 'auto' algorithm for converging. Euclidean distance is used in this case,\n",
    "# but it might change according to our performance.\n",
    "\n",
    "for i in range(1,11):\n",
    "    kmeans = KMeans(n_clusters= i, max_iter = 300, \n",
    "                    init='k-means++', random_state=123, \n",
    "                    verbose = 1, algorithm='auto')\n",
    "    kmeans.fit(X)\n",
    "    wcss.append(kmeans.inertia_)\n"
   ]
  },
  {
   "cell_type": "markdown",
   "id": "3e5ac514",
   "metadata": {},
   "source": [
    "**3. Visualizing results**"
   ]
  },
  {
   "cell_type": "code",
   "execution_count": 948,
   "id": "9a3581bc",
   "metadata": {},
   "outputs": [
    {
     "data": {
      "image/png": "[encoded data removed]",
      "text/plain": [
       "<Figure size 432x288 with 1 Axes>"
      ]
     },
     "metadata": {},
     "output_type": "display_data"
    }
   ],
   "source": [
    "# Viewing ELBOW method to get the optimal value of K\n",
    "\n",
    "plt.plot(range(1,11), wcss)\n",
    "plt.title('Elbow Method')\n",
    "plt.xlabel('No. of clusters')\n",
    "plt.ylabel('wcss')\n",
    "plt.show()"
   ]
  },
  {
   "cell_type": "markdown",
   "id": "822ec72f",
   "metadata": {},
   "source": [
    "From the graph above, we can see that according to the \"Elbow validation approach\", if we choose 6 clusters, then we will achieving a minium error of wcss"
   ]
  },
  {
   "cell_type": "code",
   "execution_count": 968,
   "id": "98471c4b",
   "metadata": {},
   "outputs": [
    {
     "name": "stdout",
     "output_type": "stream",
     "text": [
      "Initialization complete\n",
      "Iteration 0, inertia 476.24430941097756\n",
      "Iteration 1, inertia 305.45124420822316\n",
      "Converged at iteration 1: strict convergence.\n",
      "Initialization complete\n",
      "Iteration 0, inertia 545.1293060336468\n",
      "Iteration 1, inertia 312.23617160969565\n",
      "Iteration 2, inertia 306.7580124449414\n",
      "Converged at iteration 2: strict convergence.\n",
      "Initialization complete\n",
      "Iteration 0, inertia 450.11941478483624\n",
      "Iteration 1, inertia 371.25146932287197\n",
      "Iteration 2, inertia 315.63184862610007\n",
      "Iteration 3, inertia 306.7580124449414\n",
      "Converged at iteration 3: strict convergence.\n",
      "Initialization complete\n",
      "Iteration 0, inertia 437.38137171068325\n",
      "Iteration 1, inertia 354.673138677147\n",
      "Iteration 2, inertia 306.7580124449414\n",
      "Converged at iteration 2: strict convergence.\n",
      "Initialization complete\n",
      "Iteration 0, inertia 483.96926552932047\n",
      "Iteration 1, inertia 360.83374491274463\n",
      "Iteration 2, inertia 310.9491377773325\n",
      "Iteration 3, inertia 305.45124420822316\n",
      "Converged at iteration 3: strict convergence.\n",
      "Initialization complete\n",
      "Iteration 0, inertia 544.6388108996249\n",
      "Iteration 1, inertia 354.67313867714694\n",
      "Iteration 2, inertia 306.7580124449414\n",
      "Converged at iteration 2: strict convergence.\n",
      "Initialization complete\n",
      "Iteration 0, inertia 448.99713376178613\n",
      "Iteration 1, inertia 306.7580124449414\n",
      "Converged at iteration 1: strict convergence.\n",
      "Initialization complete\n",
      "Iteration 0, inertia 408.68816905742136\n",
      "Iteration 1, inertia 306.7580124449414\n",
      "Converged at iteration 1: strict convergence.\n",
      "Initialization complete\n",
      "Iteration 0, inertia 548.0569280821812\n",
      "Iteration 1, inertia 404.68203451690243\n",
      "Iteration 2, inertia 383.5558342152464\n",
      "Iteration 3, inertia 373.7482806253318\n",
      "Converged at iteration 3: strict convergence.\n",
      "Initialization complete\n",
      "Iteration 0, inertia 520.4707242606468\n",
      "Iteration 1, inertia 346.16102312133665\n",
      "Iteration 2, inertia 336.1378259792391\n",
      "Iteration 3, inertia 311.730392029185\n",
      "Iteration 4, inertia 306.75801244494147\n",
      "Converged at iteration 4: strict convergence.\n"
     ]
    }
   ],
   "source": [
    "#Model Build\n",
    "kmeans_model = KMeans(n_clusters= 6, max_iter = 300, \n",
    "                    init='k-means++', random_state=123, \n",
    "                    verbose = 1, algorithm='auto')\n",
    "output_2 ['y_pred'] = kmeans_model.fit_predict(X)"
   ]
  },
  {
   "cell_type": "code",
   "execution_count": 980,
   "id": "9ed4fece",
   "metadata": {},
   "outputs": [
    {
     "data": {
      "text/plain": [
       "<matplotlib.legend.Legend at 0x7f7d05e42f60>"
      ]
     },
     "execution_count": 980,
     "metadata": {},
     "output_type": "execute_result"
    },
    {
     "data": {
      "image/png": "[encoded data removed]",
      "text/plain": [
       "<Figure size 720x432 with 1 Axes>"
      ]
     },
     "metadata": {},
     "output_type": "display_data"
    }
   ],
   "source": [
    "# plot results\n",
    "plt.figure(figsize=(10,6))\n",
    "\n",
    "plot_clusters = sns.scatterplot(x='dwell_time', y='n_visits', hue='y_pred',palette='Set1', s=100, alpha=0.2,  \n",
    "                data=output_2).set_title('KMeans Clusters (6)', fontsize=15)\n",
    "\n",
    "plt.legend(loc='upper right', title='clusters')"
   ]
  },
  {
   "cell_type": "code",
   "execution_count": null,
   "id": "96f30c85",
   "metadata": {},
   "outputs": [],
   "source": []
  }
 ],
 "metadata": {
  "kernelspec": {
   "display_name": "python_371",
   "language": "python",
   "name": "python_371"
  },
  "language_info": {
   "codemirror_mode": {
    "name": "ipython",
    "version": 3
   },
   "file_extension": ".py",
   "mimetype": "text/x-python",
   "name": "python",
   "nbconvert_exporter": "python",
   "pygments_lexer": "ipython3",
   "version": "3.7.1"
  }
 },
 "nbformat": 4,
 "nbformat_minor": 5
}
